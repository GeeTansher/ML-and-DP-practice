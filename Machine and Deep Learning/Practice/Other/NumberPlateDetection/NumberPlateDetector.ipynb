{
 "cells": [
  {
   "cell_type": "code",
   "execution_count": 1,
   "metadata": {},
   "outputs": [],
   "source": [
    "import cv2\n",
    "import numpy as np\n",
    "from imutils import contours\n",
    "\n",
    "from pytesseract import pytesseract\n",
    "pytesseract.tesseract_cmd = \"C:\\\\Users\\\\HP\\\\AppData\\\\Local\\\\Tesseract-OCR\\\\tesseract.exe\"\n"
   ]
  },
  {
   "cell_type": "code",
   "execution_count": 8,
   "metadata": {},
   "outputs": [
    {
     "name": "stdout",
     "output_type": "stream",
     "text": [
      "\n"
     ]
    }
   ],
   "source": [
    "img = cv2.imread(\"np4.jpg\")\n",
    "\n",
    "grey_img = cv2.cvtColor(img,cv2.COLOR_BGR2GRAY)\n",
    "# grey_img = cv2.bilateralFilter(grey_img,11,17,17)\n",
    "# _,thresh = cv2.threshold(grey_img,0,255,cv2.THRESH_BINARY + cv2.THRESH_OTSU)\n",
    "canny_edge = cv2.Canny(grey_img,170,200)\n",
    "cnts,hierarchy = cv2.findContours(canny_edge,cv2.RETR_TREE,cv2.CHAIN_APPROX_SIMPLE)\n",
    "# contours,hierarchy = cv2.findContours(thresh,cv2.RETR_TREE,cv2.CHAIN_APPROX_NONE)\n",
    "cnts = sorted(cnts,key = cv2.contourArea, reverse=True)[:30]\n",
    "\n",
    "# contour_with_plate = None\n",
    "licensePlate = None\n",
    "\n",
    "for cnt in cnts:\n",
    "    # getting perimeter of contour\n",
    "    peri = cv2.arcLength(cnt,True)\n",
    "    # getting the polygon details that contour is\n",
    "    poly = cv2.approxPolyDP(cnt,0.1 * peri, True)\n",
    "    if len(poly) == 4:   # if it is a rect\n",
    "        # contour_with_plate = poly\n",
    "        x,y,w,h = cv2.boundingRect(cnt)\n",
    "        licensePlate = grey_img[y:y+h,x:x+w]\n",
    "        break\n",
    "\n",
    "licensePlate = cv2.resize(licensePlate, (300, 50)) \n",
    "_,thresh = cv2.threshold(licensePlate,0,255, cv2.THRESH_OTSU)\n",
    "# canny_edge = cv2.Canny(licensePlate,170,240)\n",
    "cnts,hierarchy = cv2.findContours(thresh,cv2.RETR_TREE,cv2.CHAIN_APPROX_SIMPLE)\n",
    "(cnts, _) = contours.sort_contours(cnts, method=\"left-to-right\")\n",
    "ROI_number = 0\n",
    "mask = np.zeros(licensePlate.shape, dtype=np.uint8)\n",
    "# mask = np.full(licensePlate.shape,255, dtype=np.uint8)\n",
    "cv2.imshow('thresh', thresh)\n",
    "for c in cnts:\n",
    "    area = cv2.contourArea(c)\n",
    "    if area < 1000 and area > 100:\n",
    "        x,y,w,h = cv2.boundingRect(c)\n",
    "        ROI = thresh[y:y+h, x:x+w]\n",
    "        # ROI = 255 - thresh[y:y+h, x:x+w]\n",
    "        cv2.drawContours(mask, [c], -1, (255,255,255), -1)\n",
    "        cv2.imshow('ROI_{}.png'.format(ROI_number), ROI)\n",
    "        ROI_number += 1\n",
    "        \n",
    "cv2.imshow('mask', mask)\n",
    "# cv2.imshow('thresh', thresh)\n",
    "licensePlate = cv2.bilateralFilter(licensePlate,11,17,17)\n",
    "# hgt , wdt  = licensePlate.shape\n",
    "# _,thresh = cv2.threshold(licensePlate,0,255,cv2.THRESH_BINARY + cv2.THRESH_OTSU)\n",
    "text = pytesseract.image_to_string(licensePlate)\n",
    "# boxes = pytesseract.image_to_boxes(licensePlate)\n",
    "\n",
    "# for box in boxes.splitlines():\n",
    "#     box = box.split()\n",
    "#     x,y,w,h = int(box[1]), int(box[2]), int(box[3]), int(box[4])\n",
    "#     cv2.rectangle(licensePlate,(x,hgt-y),(w,hgt-h), (0,0,255), 1)\n",
    "#     cv2.putText(licensePlate,box[0],(x,hgt-h), cv2.FONT_HERSHEY_COMPLEX,0.5,(0,255,0),2)\n",
    "    \n",
    "    \n",
    "print(text)\n",
    "cv2.imshow(\"image\",licensePlate)\n",
    "if cv2.waitKey(0) & 0XFF==ord('q'):\n",
    "    cv2.destroyAllWindows()\n",
    "else:\n",
    "    cv2.destroyAllWindows()"
   ]
  },
  {
   "cell_type": "code",
   "execution_count": 3,
   "metadata": {},
   "outputs": [
    {
     "ename": "NameError",
     "evalue": "name 'y' is not defined",
     "output_type": "error",
     "traceback": [
      "\u001b[1;31m---------------------------------------------------------------------------\u001b[0m",
      "\u001b[1;31mNameError\u001b[0m                                 Traceback (most recent call last)",
      "\u001b[1;32m~\\AppData\\Local\\Temp/ipykernel_16856/3463774340.py\u001b[0m in \u001b[0;36m<module>\u001b[1;34m\u001b[0m\n\u001b[0;32m      2\u001b[0m \u001b[1;31m# print(x,y,w,h)\u001b[0m\u001b[1;33m\u001b[0m\u001b[1;33m\u001b[0m\u001b[0m\n\u001b[0;32m      3\u001b[0m \u001b[1;31m# licensePlate.shape\u001b[0m\u001b[1;33m\u001b[0m\u001b[1;33m\u001b[0m\u001b[0m\n\u001b[1;32m----> 4\u001b[1;33m \u001b[0mcv2\u001b[0m\u001b[1;33m.\u001b[0m\u001b[0mimshow\u001b[0m\u001b[1;33m(\u001b[0m\u001b[1;34m\"image\"\u001b[0m\u001b[1;33m,\u001b[0m\u001b[0mgrey_img\u001b[0m\u001b[1;33m[\u001b[0m\u001b[0my\u001b[0m\u001b[1;33m:\u001b[0m\u001b[0my\u001b[0m\u001b[1;33m+\u001b[0m\u001b[0mh\u001b[0m\u001b[1;33m,\u001b[0m\u001b[0mx\u001b[0m\u001b[1;33m:\u001b[0m\u001b[0mx\u001b[0m\u001b[1;33m+\u001b[0m\u001b[0mw\u001b[0m\u001b[1;33m]\u001b[0m\u001b[1;33m)\u001b[0m\u001b[1;33m\u001b[0m\u001b[1;33m\u001b[0m\u001b[0m\n\u001b[0m\u001b[0;32m      5\u001b[0m \u001b[1;32mif\u001b[0m \u001b[0mcv2\u001b[0m\u001b[1;33m.\u001b[0m\u001b[0mwaitKey\u001b[0m\u001b[1;33m(\u001b[0m\u001b[1;36m0\u001b[0m\u001b[1;33m)\u001b[0m \u001b[1;33m&\u001b[0m \u001b[1;36m0XFF\u001b[0m\u001b[1;33m==\u001b[0m\u001b[0mord\u001b[0m\u001b[1;33m(\u001b[0m\u001b[1;34m'q'\u001b[0m\u001b[1;33m)\u001b[0m\u001b[1;33m:\u001b[0m\u001b[1;33m\u001b[0m\u001b[1;33m\u001b[0m\u001b[0m\n\u001b[0;32m      6\u001b[0m     \u001b[0mcv2\u001b[0m\u001b[1;33m.\u001b[0m\u001b[0mdestroyAllWindows\u001b[0m\u001b[1;33m(\u001b[0m\u001b[1;33m)\u001b[0m\u001b[1;33m\u001b[0m\u001b[1;33m\u001b[0m\u001b[0m\n",
      "\u001b[1;31mNameError\u001b[0m: name 'y' is not defined"
     ]
    }
   ],
   "source": [
    "# thresh[y:y+h, x:x+w].shape\n",
    "# print(x,y,w,h)\n",
    "# licensePlate.shape\n",
    "# cv2.imshow(\"image\",grey_img[y:y+h,x:x+w])\n",
    "# if cv2.waitKey(0) & 0XFF==ord('q'):\n",
    "#     cv2.destroyAllWindows()\n",
    "# else:\n",
    "#     cv2.destroyAllWindows()"
   ]
  },
  {
   "cell_type": "code",
   "execution_count": 1,
   "metadata": {},
   "outputs": [
    {
     "data": {
      "text/plain": [
       "-1"
      ]
     },
     "execution_count": 1,
     "metadata": {},
     "output_type": "execute_result"
    }
   ],
   "source": [
    "import cv2\n",
    "import numpy as np\n",
    "from imutils import contours\n",
    "\n",
    "image = cv2.imread('np1.jpg')\n",
    "mask = np.zeros(image.shape, dtype=np.uint8)\n",
    "gray = cv2.cvtColor(image, cv2.COLOR_BGR2GRAY)\n",
    "thresh = cv2.threshold(gray, 0, 255, cv2.THRESH_BINARY + cv2.THRESH_OTSU)[1]\n",
    "\n",
    "cnts = cv2.findContours(thresh, cv2.RETR_TREE, cv2.CHAIN_APPROX_SIMPLE)\n",
    "cnts = cnts[0] if len(cnts) == 2 else cnts[1]\n",
    "(cnts, _) = contours.sort_contours(cnts, method=\"left-to-right\")\n",
    "ROI_number = 0\n",
    "# cv2.imshow('mask1', mask)\n",
    "for c in cnts:\n",
    "    area = cv2.contourArea(c)\n",
    "    if area < 1000 and area > 100:\n",
    "        x,y,w,h = cv2.boundingRect(c)\n",
    "        ROI = 255 - thresh[y:y+h, x:x+w]\n",
    "        cv2.drawContours(mask, [c], -1, (255,255,255), -1)\n",
    "        # cv2.imwrite('ROI_{}.png'.format(ROI_number), ROI)\n",
    "        ROI_number += 1\n",
    "\n",
    "cv2.imshow('mask', mask)\n",
    "cv2.imshow('thresh', thresh)\n",
    "cv2.waitKey()"
   ]
  }
 ],
 "metadata": {
  "kernelspec": {
   "display_name": "Python 3.9.7 ('base')",
   "language": "python",
   "name": "python3"
  },
  "language_info": {
   "codemirror_mode": {
    "name": "ipython",
    "version": 3
   },
   "file_extension": ".py",
   "mimetype": "text/x-python",
   "name": "python",
   "nbconvert_exporter": "python",
   "pygments_lexer": "ipython3",
   "version": "3.9.7"
  },
  "orig_nbformat": 4,
  "vscode": {
   "interpreter": {
    "hash": "dc07d24e2f18896857f0b2a651fe84ba40ce7b297e58d8804a308c8039f752a6"
   }
  }
 },
 "nbformat": 4,
 "nbformat_minor": 2
}
