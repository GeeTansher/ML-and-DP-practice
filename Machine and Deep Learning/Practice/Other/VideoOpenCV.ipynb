{
 "cells": [
  {
   "cell_type": "code",
   "execution_count": 1,
   "metadata": {},
   "outputs": [
    {
     "name": "stdout",
     "output_type": "stream",
     "text": [
      "Frames are 30.0\n"
     ]
    }
   ],
   "source": [
    "#Importing opencv\n",
    "import cv2\n",
    "\n",
    "# instance of video capture\n",
    "cap = cv2.VideoCapture(0)\n",
    "\n",
    "#Checking if the camera is opened or not\n",
    "opened = cap.isOpened()\n",
    "\n",
    "#fourcc - four character code for determining the codec of the video file\n",
    "# fourcc = cv2.VideoWriter_fourcc(*'MJPG')\n",
    "# OR\n",
    "fourcc = cv2.VideoWriter_fourcc('M','J','P','G')\n",
    "\n",
    "\n",
    "#Getting the properties of the video using video capture instance\n",
    "height = cap.get(cv2.CAP_PROP_FRAME_HEIGHT)\n",
    "width = cap.get(cv2.CAP_PROP_FRAME_WIDTH)\n",
    "fps = cap.get(cv2.CAP_PROP_FPS)\n",
    "\n",
    "# output video writer creation\n",
    "out = cv2.VideoWriter('jj.avi', fourcc,fps ,(int(width), int(height)))\n",
    "\n",
    "print(\"Frames are {}\".format(fps))\n",
    "\n",
    "\n",
    "#Showing and storing the live camera feed\n",
    "#Check if camera is opened\n",
    "if(opened):\n",
    "\t#Run until it remains open\n",
    "\twhile(cap.isOpened()):\n",
    "\t\t#Get the frame from Video capture Instance\n",
    "\t\tret, frame = cap.read()\n",
    "\t\t#\n",
    "\t\t#return ret Variable tells if the frame is returned successfully\n",
    "\t\tif(ret==True):\n",
    "\t\t\tcv2.imshow('winname', frame)\n",
    "\t\t\t#Writing the frame to video output\n",
    "\t\t\tout.write(frame)\n",
    "\t\t\t#Wait for 2 milliseconds for each frame \n",
    "\t\t\t#If user press 'esc' key then exit loop\n",
    "\t\t\tif(cv2.waitKey(2)==27):\n",
    "\t\t\t\tbreak\n",
    "out.release()\n",
    "cap.release()\n",
    "cv2.destroyAllWindows()"
   ]
  }
 ],
 "metadata": {
  "kernelspec": {
   "display_name": "Python 3.9.7 ('base')",
   "language": "python",
   "name": "python3"
  },
  "language_info": {
   "codemirror_mode": {
    "name": "ipython",
    "version": 3
   },
   "file_extension": ".py",
   "mimetype": "text/x-python",
   "name": "python",
   "nbconvert_exporter": "python",
   "pygments_lexer": "ipython3",
   "version": "3.9.7"
  },
  "orig_nbformat": 4,
  "vscode": {
   "interpreter": {
    "hash": "dc07d24e2f18896857f0b2a651fe84ba40ce7b297e58d8804a308c8039f752a6"
   }
  }
 },
 "nbformat": 4,
 "nbformat_minor": 2
}
