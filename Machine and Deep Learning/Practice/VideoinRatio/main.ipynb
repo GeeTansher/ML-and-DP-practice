{
 "cells": [
  {
   "cell_type": "code",
   "execution_count": 1,
   "metadata": {},
   "outputs": [],
   "source": [
    "import cv2\n",
    "import numpy as np\n",
    "from PIL import Image"
   ]
  },
  {
   "cell_type": "code",
   "execution_count": 56,
   "metadata": {},
   "outputs": [],
   "source": [
    "cap = cv2.VideoCapture('D:\\ML-and-DP-practice\\Machine and Deep Learning\\Practice\\VideoinRatio\\Video.mp4')\n",
    "\n",
    "forec = cv2.VideoWriter_fourcc(*'MJPG')"
   ]
  },
  {
   "cell_type": "code",
   "execution_count": 57,
   "metadata": {},
   "outputs": [],
   "source": [
    "h = cap.get(cv2.CAP_PROP_FRAME_HEIGHT)\n",
    "w = cap.get(cv2.CAP_PROP_FRAME_WIDTH)\n",
    "fps = cap.get(cv2.CAP_PROP_FPS)"
   ]
  },
  {
   "cell_type": "code",
   "execution_count": 49,
   "metadata": {},
   "outputs": [
    {
     "name": "stdout",
     "output_type": "stream",
     "text": [
      "Height - 1920.0 \n",
      "Width - 1080.0 \n",
      "FPS - 30.880389460886082\n"
     ]
    }
   ],
   "source": [
    "print(\"Height - {} \\nWidth - {} \\nFPS - {}\".format(h,w,fps))\n",
    "lastFrame = cap.get(cv2.CAP_PROP_FRAME_COUNT)"
   ]
  },
  {
   "cell_type": "code",
   "execution_count": 58,
   "metadata": {},
   "outputs": [],
   "source": [
    "if h>w:\n",
    "    backgroundImg = np.zeros((int(h),int(h)), dtype=int);\n",
    "else:\n",
    "    backgroundImg = np.zeros((int(w),int(w)), dtype=int);\n"
   ]
  },
  {
   "cell_type": "code",
   "execution_count": 8,
   "metadata": {},
   "outputs": [
    {
     "data": {
      "text/plain": [
       "True"
      ]
     },
     "execution_count": 8,
     "metadata": {},
     "output_type": "execute_result"
    }
   ],
   "source": [
    "cv2.imwrite(\"Background.jpg\",backgroundImg)"
   ]
  },
  {
   "cell_type": "code",
   "execution_count": 6,
   "metadata": {},
   "outputs": [
    {
     "data": {
      "text/plain": [
       "array([[0, 0, 0, ..., 0, 0, 0],\n",
       "       [0, 0, 0, ..., 0, 0, 0],\n",
       "       [0, 0, 0, ..., 0, 0, 0],\n",
       "       ...,\n",
       "       [0, 0, 0, ..., 0, 0, 0],\n",
       "       [0, 0, 0, ..., 0, 0, 0],\n",
       "       [0, 0, 0, ..., 0, 0, 0]])"
      ]
     },
     "execution_count": 6,
     "metadata": {},
     "output_type": "execute_result"
    }
   ],
   "source": [
    "backgroundImg"
   ]
  },
  {
   "cell_type": "code",
   "execution_count": 32,
   "metadata": {},
   "outputs": [
    {
     "ename": "error",
     "evalue": "OpenCV(4.6.0) D:/a/opencv-python/opencv-python/opencv/modules/highgui/src/precomp.hpp:155: error: (-215:Assertion failed) src_depth != CV_16F && src_depth != CV_32S in function 'convertToShow'\n",
     "output_type": "error",
     "traceback": [
      "\u001b[1;31m---------------------------------------------------------------------------\u001b[0m",
      "\u001b[1;31merror\u001b[0m                                     Traceback (most recent call last)",
      "Cell \u001b[1;32mIn [32], line 1\u001b[0m\n\u001b[1;32m----> 1\u001b[0m cv2\u001b[39m.\u001b[39;49mimshow(\u001b[39m\"\u001b[39;49m\u001b[39mig\u001b[39;49m\u001b[39m\"\u001b[39;49m, backgroundImg);\n\u001b[0;32m      2\u001b[0m cv2\u001b[39m.\u001b[39mwaitKey()\n\u001b[0;32m      3\u001b[0m cv2\u001b[39m.\u001b[39mdestroyAllWindows()\n",
      "\u001b[1;31merror\u001b[0m: OpenCV(4.6.0) D:/a/opencv-python/opencv-python/opencv/modules/highgui/src/precomp.hpp:155: error: (-215:Assertion failed) src_depth != CV_16F && src_depth != CV_32S in function 'convertToShow'\n"
     ]
    },
    {
     "ename": "",
     "evalue": "",
     "output_type": "error",
     "traceback": [
      "\u001b[1;31mThe Kernel crashed while executing code in the the current cell or a previous cell. Please review the code in the cell(s) to identify a possible cause of the failure. Click <a href='https://aka.ms/vscodeJupyterKernelCrash'>here</a> for more info. View Jupyter <a href='command:jupyter.viewOutput'>log</a> for further details."
     ]
    }
   ],
   "source": [
    "cv2.imshow(\"ig\", backgroundImg);\n",
    "cv2.waitKey()\n",
    "cv2.destroyAllWindows()"
   ]
  },
  {
   "cell_type": "code",
   "execution_count": 63,
   "metadata": {},
   "outputs": [
    {
     "data": {
      "text/plain": [
       "1920"
      ]
     },
     "execution_count": 63,
     "metadata": {},
     "output_type": "execute_result"
    }
   ],
   "source": [
    "backgroundImg.shape[0]"
   ]
  },
  {
   "cell_type": "code",
   "execution_count": 59,
   "metadata": {},
   "outputs": [],
   "source": [
    "out = cv2.VideoWriter('D:\\ML-and-DP-practice\\Machine and Deep Learning\\Practice\\VideoinRatio\\Result.avi',forec,fps,(int(backgroundImg.shape[0]) , int(backgroundImg.shape[1])))\n",
    "# out = cv2.VideoWriter('D:\\ML-and-DP-practice\\Machine and Deep Learning\\Practice\\VideoinRatio\\Result.avi',forec,fps,(int(w) , int(h)))"
   ]
  },
  {
   "cell_type": "code",
   "execution_count": 28,
   "metadata": {},
   "outputs": [
    {
     "name": "stdout",
     "output_type": "stream",
     "text": [
      "130.0\n",
      "120.0\n",
      "110.0\n",
      "100.0\n",
      "90.0\n",
      "80.0\n",
      "70.0\n",
      "60.0\n",
      "50.0\n",
      "40.0\n",
      "30.0\n",
      "20.0\n",
      "10.0\n",
      "0.0\n",
      "Reversed Video Saved successfully.\n"
     ]
    }
   ],
   "source": [
    "lastFrame = lastFrame-1\n",
    "\n",
    "if cap.isOpened():\n",
    "    while(lastFrame !=0):\n",
    "        cap.set(cv2.CAP_PROP_POS_FRAMES, lastFrame)\n",
    "        ret, frame = cap.read()\n",
    "        frame = cv2.resize(frame,(int(backgroundImg.shape[0]) , int(backgroundImg.shape[1]))) # To reduce frame of size if you want (also change above in out if used)\n",
    "        if ret==True:\n",
    "            out.write(frame)\n",
    "            # cv2.imshow(\"video\", frame)\n",
    "            lastFrame = lastFrame-1\n",
    "        if(lastFrame%10 == 0):\n",
    "            print(lastFrame)\n",
    "print(\"Reversed Video Saved successfully.\")\n",
    "out.release()\n",
    "cap.release()\n",
    "cv2.destroyAllWindows()"
   ]
  },
  {
   "cell_type": "code",
   "execution_count": 60,
   "metadata": {},
   "outputs": [],
   "source": [
    "img = Image.open('Background.jpg')\n",
    "img1=img.copy()"
   ]
  },
  {
   "cell_type": "code",
   "execution_count": 28,
   "metadata": {},
   "outputs": [
    {
     "name": "stdout",
     "output_type": "stream",
     "text": [
      "Height - 1920.0 \n",
      "Width - 1080.0 \n",
      "FPS - 30.880389460886082\n"
     ]
    }
   ],
   "source": [
    "cap = cv2.VideoCapture('D:\\ML-and-DP-practice\\Machine and Deep Learning\\Practice\\VideoinRatio\\Video.mp4')\n",
    "forec = cv2.VideoWriter_fourcc(*'MJPG')\n",
    "\n",
    "h = cap.get(cv2.CAP_PROP_FRAME_HEIGHT)\n",
    "w = cap.get(cv2.CAP_PROP_FRAME_WIDTH)\n",
    "fps = cap.get(cv2.CAP_PROP_FPS)\n",
    "\n",
    "print(\"Height - {} \\nWidth - {} \\nFPS - {}\".format(h,w,fps))\n",
    "lastFrame = cap.get(cv2.CAP_PROP_FRAME_COUNT)\n",
    "\n",
    "if h>w:\n",
    "    backgroundImg = np.zeros((int(h/10),int(h/10)), dtype=int);\n",
    "else:\n",
    "    backgroundImg = np.zeros((int(w/10),int(w/10)), dtype=int);\n",
    "\n",
    "out = cv2.VideoWriter('D:\\ML-and-DP-practice\\Machine and Deep Learning\\Practice\\VideoinRatio\\Result.avi',forec,fps,(int(backgroundImg.shape[0]) , int(backgroundImg.shape[1])))\n"
   ]
  },
  {
   "cell_type": "code",
   "execution_count": 26,
   "metadata": {},
   "outputs": [],
   "source": [
    "img = Image.open('Background.jpg')\n",
    "img1=img.copy()"
   ]
  },
  {
   "cell_type": "code",
   "execution_count": 4,
   "metadata": {},
   "outputs": [
    {
     "name": "stdout",
     "output_type": "stream",
     "text": [
      "(192, 192)\n"
     ]
    }
   ],
   "source": [
    "print(backgroundImg.shape)\n",
    "cv2.imshow(\"ig\", np.asarray(img));\n",
    "cv2.waitKey()\n",
    "cv2.destroyAllWindows()"
   ]
  },
  {
   "cell_type": "code",
   "execution_count": 29,
   "metadata": {},
   "outputs": [
    {
     "name": "stdout",
     "output_type": "stream",
     "text": [
      "10\n",
      "20\n",
      "30\n",
      "40\n",
      "50\n",
      "60\n",
      "70\n",
      "80\n",
      "90\n",
      "100\n",
      "110\n",
      "120\n",
      "130\n",
      "Reversed Video Saved successfully.\n"
     ]
    }
   ],
   "source": [
    "currFrame = 0\n",
    "if cap.isOpened():\n",
    "    while(currFrame != lastFrame):\n",
    "        img=Image.open('Background.jpg')\n",
    "        cap.set(cv2.CAP_PROP_POS_FRAMES, currFrame)\n",
    "        ret, frame = cap.read()\n",
    "        if ret==True:\n",
    "            frame = cv2.resize(frame, [108,192])\n",
    "            fr = Image.fromarray(frame)\n",
    "            img.paste(fr,(40,0))\n",
    "            img = img.rotate(180)\n",
    "            out.write(np.asarray(img))\n",
    "            # cv2.imshow(\"video\",np.asarray(img))\n",
    "            # if(cv2.waitKey(0) == 27):\n",
    "            #     break\n",
    "        currFrame=currFrame+1\n",
    "        if(currFrame%10 == 0):\n",
    "            print(currFrame)\n",
    "print(\"Reversed Video Saved successfully.\")\n",
    "out.release()\n",
    "cap.release()\n",
    "cv2.destroyAllWindows()"
   ]
  },
  {
   "cell_type": "code",
   "execution_count": 22,
   "metadata": {},
   "outputs": [],
   "source": [
    "currFrame = 0\n",
    "if cap.isOpened():\n",
    "    img=Image.open('Background.jpg')\n",
    "    cap.set(cv2.CAP_PROP_POS_FRAMES, currFrame)\n",
    "    ret, frame = cap.read()\n",
    "    if ret==True:\n",
    "        frame = cv2.resize(frame, [108,192])\n",
    "        fr = Image.fromarray(frame)\n",
    "        img.paste(fr,(40,0))\n",
    "        img = img.rotate(180)\n",
    "        # out.write(np.asarray(img))\n",
    "        cv2.imwrite(\"re.jpg\", np.asarray(img))\n",
    "    \n",
    "    currFrame = currFrame+1\n",
    "\n",
    "    img=Image.open('Background.jpg')\n",
    "    cap.set(cv2.CAP_PROP_POS_FRAMES, currFrame)\n",
    "    ret, frame = cap.read()\n",
    "    if ret==True:\n",
    "        frame = cv2.resize(frame, [108,192])\n",
    "        fr = Image.fromarray(frame)\n",
    "        img.paste(fr,(40,0))\n",
    "        img = img.rotate(180)\n",
    "        # out.write(np.asarray(img))\n",
    "        cv2.imwrite(\"re1.jpg\", np.asarray(img))"
   ]
  },
  {
   "cell_type": "code",
   "execution_count": 19,
   "metadata": {},
   "outputs": [],
   "source": [
    "img=img1\n",
    "img1.show()"
   ]
  }
 ],
 "metadata": {
  "kernelspec": {
   "display_name": "Python 3.9.13 64-bit",
   "language": "python",
   "name": "python3"
  },
  "language_info": {
   "codemirror_mode": {
    "name": "ipython",
    "version": 3
   },
   "file_extension": ".py",
   "mimetype": "text/x-python",
   "name": "python",
   "nbconvert_exporter": "python",
   "pygments_lexer": "ipython3",
   "version": "3.9.13"
  },
  "orig_nbformat": 4,
  "vscode": {
   "interpreter": {
    "hash": "11938c6bc6919ae2720b4d5011047913343b08a43b18698fd82dedb0d4417594"
   }
  }
 },
 "nbformat": 4,
 "nbformat_minor": 2
}
