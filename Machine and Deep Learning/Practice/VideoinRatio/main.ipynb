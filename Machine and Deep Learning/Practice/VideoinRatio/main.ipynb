{
 "cells": [
  {
   "cell_type": "code",
   "execution_count": 1,
   "metadata": {},
   "outputs": [],
   "source": [
    "import cv2\n",
    "import numpy as np\n",
    "from PIL import Image"
   ]
  },
  {
   "cell_type": "code",
   "execution_count": 53,
   "metadata": {},
   "outputs": [],
   "source": [
    "cap = cv2.VideoCapture('D:\\ML-and-DP-practice\\Machine and Deep Learning\\Practice\\VideoinRatio\\Video.mp4')\n",
    "\n",
    "forec = cv2.VideoWriter_fourcc(*'MJPG')"
   ]
  },
  {
   "cell_type": "code",
   "execution_count": 54,
   "metadata": {},
   "outputs": [],
   "source": [
    "h = cap.get(cv2.CAP_PROP_FRAME_HEIGHT)\n",
    "w = cap.get(cv2.CAP_PROP_FRAME_WIDTH)\n",
    "fps = cap.get(cv2.CAP_PROP_FPS)"
   ]
  },
  {
   "cell_type": "code",
   "execution_count": 23,
   "metadata": {},
   "outputs": [
    {
     "name": "stdout",
     "output_type": "stream",
     "text": [
      "Height - 1920.0 \n",
      "Width - 1080.0 \n",
      "FPS - 30.880389460886082\n",
      "138.0\n"
     ]
    }
   ],
   "source": [
    "print(\"Height - {} \\nWidth - {} \\nFPS - {}\".format(h,w,fps))\n",
    "lastFrame = cap.get(cv2.CAP_PROP_FRAME_COUNT)\n",
    "print(lastFrame)"
   ]
  },
  {
   "cell_type": "code",
   "execution_count": 5,
   "metadata": {},
   "outputs": [],
   "source": [
    "if h>w:\n",
    "    backgroundImg = np.zeros((int(h),int(h)), dtype=int);\n",
    "else:\n",
    "    backgroundImg = np.zeros((int(w),int(w)), dtype=int);"
   ]
  },
  {
   "cell_type": "code",
   "execution_count": 18,
   "metadata": {},
   "outputs": [
    {
     "data": {
      "text/plain": [
       "True"
      ]
     },
     "execution_count": 18,
     "metadata": {},
     "output_type": "execute_result"
    }
   ],
   "source": [
    "cv2.imwrite(\"Background.jpg\",backgroundImg)"
   ]
  },
  {
   "cell_type": "code",
   "execution_count": 55,
   "metadata": {},
   "outputs": [],
   "source": [
    "backgroundImg = cv2.imread(r'D:\\ML-and-DP-practice\\Machine and Deep Learning\\Practice\\VideoinRatio\\Background.jpg')\n",
    "width = backgroundImg.shape[0]\n",
    "height = backgroundImg.shape[1]"
   ]
  },
  {
   "cell_type": "code",
   "execution_count": 7,
   "metadata": {},
   "outputs": [],
   "source": [
    "cv2.imshow(\"ig\", backgroundImg)\n",
    "cv2.waitKey()\n",
    "cv2.destroyAllWindows()"
   ]
  },
  {
   "cell_type": "code",
   "execution_count": 8,
   "metadata": {},
   "outputs": [
    {
     "name": "stdout",
     "output_type": "stream",
     "text": [
      "1920   1920\n"
     ]
    }
   ],
   "source": [
    "print(w, \" \", h)"
   ]
  },
  {
   "cell_type": "code",
   "execution_count": 56,
   "metadata": {},
   "outputs": [],
   "source": [
    "out = cv2.VideoWriter('D:\\ML-and-DP-practice\\Machine and Deep Learning\\Practice\\VideoinRatio\\Result.avi',forec,fps,(int(width) , int(height)))"
   ]
  },
  {
   "cell_type": "code",
   "execution_count": 57,
   "metadata": {},
   "outputs": [
    {
     "name": "stdout",
     "output_type": "stream",
     "text": [
      "10\n",
      "20\n",
      "30\n",
      "40\n",
      "50\n",
      "60\n",
      "70\n",
      "80\n",
      "90\n",
      "100\n",
      "110\n",
      "120\n",
      "130\n",
      "Processed Video Saved successfully.\n"
     ]
    }
   ],
   "source": [
    "frameNum = 0\n",
    "\n",
    "if cap.isOpened():\n",
    "    while(frameNum <= lastFrame):\n",
    "        cap.set(cv2.CAP_PROP_POS_FRAMES, frameNum)\n",
    "        ret, frame = cap.read()\n",
    "        if ret:\n",
    "            Img = Image.open('Background.jpg')\n",
    "            fimg = Image.fromarray(frame)\n",
    "            fimg = fimg.rotate(180)\n",
    "            Img.paste(fimg,(200,0))\n",
    "            # Img.show(\"image\")\n",
    "            # mainImg = np.array(Img)\n",
    "            mainImg = np.array(Img)\n",
    "            out.write(mainImg)\n",
    "            # cv2.imshow(\"video\", mainImg)\n",
    "            # if(cv2.waitKey(0) == 27):\n",
    "            #     break\n",
    "        frameNum = frameNum+1\n",
    "        if(frameNum%10 == 0):\n",
    "            print(frameNum)\n",
    "print(\"Processed Video Saved successfully.\")\n",
    "out.release()\n",
    "cap.release()\n",
    "cv2.destroyAllWindows()"
   ]
  }
 ],
 "metadata": {
  "kernelspec": {
   "display_name": "Python 3.9.13 64-bit",
   "language": "python",
   "name": "python3"
  },
  "language_info": {
   "codemirror_mode": {
    "name": "ipython",
    "version": 3
   },
   "file_extension": ".py",
   "mimetype": "text/x-python",
   "name": "python",
   "nbconvert_exporter": "python",
   "pygments_lexer": "ipython3",
   "version": "3.9.13 (tags/v3.9.13:6de2ca5, May 17 2022, 16:36:42) [MSC v.1929 64 bit (AMD64)]"
  },
  "orig_nbformat": 4,
  "vscode": {
   "interpreter": {
    "hash": "11938c6bc6919ae2720b4d5011047913343b08a43b18698fd82dedb0d4417594"
   }
  }
 },
 "nbformat": 4,
 "nbformat_minor": 2
}
