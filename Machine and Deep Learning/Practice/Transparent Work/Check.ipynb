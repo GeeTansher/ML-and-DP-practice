{
 "cells": [
  {
   "cell_type": "code",
   "execution_count": 1,
   "metadata": {},
   "outputs": [],
   "source": [
    "import numpy as np\n",
    "import cv2\n",
    "from PIL import Image, ImageFont, ImageDraw"
   ]
  },
  {
   "cell_type": "code",
   "execution_count": 2,
   "metadata": {},
   "outputs": [],
   "source": [
    "image = cv2.imread('mainImg.jpg')"
   ]
  },
  {
   "cell_type": "code",
   "execution_count": 3,
   "metadata": {},
   "outputs": [],
   "source": [
    "width=596\n",
    "height=842\n",
    "image = cv2.resize(image,(width,height), interpolation = cv2.INTER_CUBIC)"
   ]
  },
  {
   "cell_type": "code",
   "execution_count": 4,
   "metadata": {},
   "outputs": [],
   "source": [
    "text = 'Palri, Uttar Pradesh, India'\n",
    "text1 ='''9G5M+53W, Shamli Rd, Palri, Uttar Pradesh\n",
    "251318, India\n",
    "Lat 29.358261°\n",
    "Long 77.532764°\n",
    "30/10/22 03:05 PM GMT+05:30'''"
   ]
  },
  {
   "cell_type": "code",
   "execution_count": 454,
   "metadata": {},
   "outputs": [
    {
     "data": {
      "text/plain": [
       "(842, 596, 3)"
      ]
     },
     "execution_count": 454,
     "metadata": {},
     "output_type": "execute_result"
    }
   ],
   "source": [
    "image.shape"
   ]
  },
  {
   "cell_type": "code",
   "execution_count": 364,
   "metadata": {},
   "outputs": [],
   "source": [
    "# for background removal\n",
    "img = Image.open('tag.png')\n",
    "rgba = img.convert(\"RGBA\")\n",
    "datas = rgba.getdata()\n",
    "\n",
    "newData = []\n",
    "for item in datas:\n",
    "    if item[0] == 0 and item[1] == 0 and item[2] == 0:\n",
    "        newData.append((255,255,255,0))\n",
    "    else:\n",
    "        newData.append(item)\n",
    "\n",
    "rgba.putdata(newData)\n",
    "rgba.save(\"transparent.png\",\"PNG\")\n"
   ]
  },
  {
   "cell_type": "code",
   "execution_count": null,
   "metadata": {},
   "outputs": [
    {
     "data": {
      "text/plain": [
       "True"
      ]
     },
     "execution_count": 5,
     "metadata": {},
     "output_type": "execute_result"
    }
   ],
   "source": [
    "image = np.zeros((250,250))\n",
    "# cv2.imwrite(\"img1.jpg\",image)\n",
    "cv2.imshow(\"image\",image)\n",
    "cv2.waitKey()\n",
    "cv2.destroyAllWindows()"
   ]
  },
  {
   "cell_type": "code",
   "execution_count": null,
   "metadata": {},
   "outputs": [],
   "source": [
    "opacity_level = 170 # Opaque is 255, input between 0-255\n",
    "\n",
    "img = Image.open('img1.jpg')\n",
    "img = img.convert(\"RGBA\")\n",
    "datas = img.getdata()\n",
    "\n",
    "newData = []\n",
    "for item in datas:\n",
    "    if item[0] == 0 and item[1] == 0 and item[2] == 0:\n",
    "        newData.append((0, 0, 0, opacity_level))\n",
    "    else:\n",
    "        newData.append(item)\n",
    "\n",
    "img.putdata(newData)\n",
    "img.save(\"img2.png\", \"PNG\")"
   ]
  },
  {
   "cell_type": "code",
   "execution_count": 5,
   "metadata": {},
   "outputs": [],
   "source": [
    "def puttext(img, x, y, word, font, size, w=0):\n",
    "    image = Image.fromarray(img)\n",
    "    draw = ImageDraw.Draw(image)  \n",
    "\n",
    "    # use a truetype font  \n",
    "    font = ImageFont.truetype(font, size)  \n",
    "\n",
    "    draw.text((x,y), word, font=font, stroke_width=w)\n",
    "    \n",
    "    return np.array(image)"
   ]
  },
  {
   "cell_type": "code",
   "execution_count": 6,
   "metadata": {},
   "outputs": [],
   "source": [
    "def putimg(image_new, path, w, h, x, y):\n",
    "    img3 = cv2.imread(path)\n",
    "    img3 = cv2.resize(img3, (w,h), interpolation = cv2.INTER_CUBIC)\n",
    "    Img = Image.fromarray(img3)\n",
    "    img = Image.fromarray(image_new)\n",
    "    img.paste(Img, (x,y))\n",
    "    return np.array(img)"
   ]
  },
  {
   "cell_type": "code",
   "execution_count": 16,
   "metadata": {},
   "outputs": [],
   "source": [
    "def rectangle(x, y, w, h, image, color):\n",
    "    draw = ImageDraw.Draw(image)\n",
    "    # Draw a rounded rectangle\n",
    "    draw.rounded_rectangle((x, y, x+w, y+h), fill=color,radius=7)\n",
    "    return np.array(image)"
   ]
  },
  {
   "cell_type": "code",
   "execution_count": 12,
   "metadata": {},
   "outputs": [],
   "source": [
    "rectangle(Image.fromarray(image), r'hello.png')"
   ]
  },
  {
   "cell_type": "code",
   "execution_count": 17,
   "metadata": {},
   "outputs": [
    {
     "data": {
      "text/plain": [
       "True"
      ]
     },
     "execution_count": 17,
     "metadata": {},
     "output_type": "execute_result"
    }
   ],
   "source": [
    "overlay = image.copy()\n",
    "\n",
    "# Rectangle parameters\n",
    "x, y, w, h = 160, height-150, 425, 140\n",
    "x1, y1, w1, h1 = 490, height-164, 95, 13\n",
    "# A filled rectangle\n",
    "# cv2.rectangle(overlay, (x, y), (x+w, y+h), (0, 0, 0), -1)\n",
    "# cv2.rectangle(overlay, (x1, y1), (x1+w1, y1+h1), (0, 0, 0), -1)\n",
    "overlay = rectangle(x, y, w, h, Image.fromarray(overlay), (0,0,0))\n",
    "overlay = rectangle(x1, y1, w1, h1, Image.fromarray(overlay), (0,0,0))\n",
    "\n",
    "overlay = puttext(overlay,505,679,\"GPS Map Camera\",\"arial.ttf\", 9)\n",
    "overlay = puttext(overlay,170,695,text,\"SegUIVar.ttf\", 20, 1)\n",
    "overlay = puttext(overlay,170,730,text1,\"SegUIVar.ttf\", 14, 1)\n",
    "\n",
    "\n",
    "alpha = 0.6 # Transparency factor.\n",
    "\n",
    "# Following line overlays transparent rectangle\n",
    "# over the image\n",
    "image_new = cv2.addWeighted(overlay, alpha, image, 1 - alpha, 0)\n",
    "image_new = putimg(image_new, 'D:\\ML-and-DP-practice\\Machine and Deep Learning\\Practice\\Transparent Work\\small gps.jpg',\n",
    "                     10, 10, 492, 679)\n",
    "image_new = putimg(image_new, r'D:\\ML-and-DP-practice\\Machine and Deep Learning\\Practice\\Transparent Work\\big map.png',\n",
    "                     141, 141, 10, 693)\n",
    "\n",
    "cv2.imwrite('hi.png', image_new)"
   ]
  },
  {
   "cell_type": "code",
   "execution_count": 475,
   "metadata": {},
   "outputs": [
    {
     "name": "stdout",
     "output_type": "stream",
     "text": [
      "[]\n"
     ]
    }
   ],
   "source": [
    "def FindFontsVariantsWithBase(fontBase=\"arial\"):\n",
    "        import matplotlib.font_manager as fm\n",
    "        system_fonts = fm.findSystemFonts(fontpaths=None, fontext='ttf')\n",
    "        # for font in np.sort(system_fonts):\n",
    "        #     print(font)\n",
    "        fonts = np.sort(system_fonts).tolist()\n",
    "        res = [i for i in fonts if fontBase in i]\n",
    "        print(res)\n",
    "        \n",
    "FindFontsVariantsWithBase(\"Myriad Variable Concept\")"
   ]
  },
  {
   "cell_type": "code",
   "execution_count": 503,
   "metadata": {},
   "outputs": [],
   "source": [
    "\n",
    "\n",
    "# cv2.imshow(\"some\", im)\n",
    "cv2.imshow(\"some\", image_new)\n",
    "cv2.waitKey(0)\n",
    "\n",
    "cv2.destroyAllWindows()"
   ]
  }
 ],
 "metadata": {
  "kernelspec": {
   "display_name": "Python 3.9.13 64-bit",
   "language": "python",
   "name": "python3"
  },
  "language_info": {
   "codemirror_mode": {
    "name": "ipython",
    "version": 3
   },
   "file_extension": ".py",
   "mimetype": "text/x-python",
   "name": "python",
   "nbconvert_exporter": "python",
   "pygments_lexer": "ipython3",
   "version": "3.9.13"
  },
  "orig_nbformat": 4,
  "vscode": {
   "interpreter": {
    "hash": "11938c6bc6919ae2720b4d5011047913343b08a43b18698fd82dedb0d4417594"
   }
  }
 },
 "nbformat": 4,
 "nbformat_minor": 2
}
