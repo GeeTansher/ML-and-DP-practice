{
 "cells": [
  {
   "cell_type": "code",
   "execution_count": null,
   "metadata": {},
   "outputs": [],
   "source": [
    "void rounded_rectangle( Mat& src, Point topLeft, Point bottomRight, const Scalar lineColor, const int thickness, const int lineType , const int cornerRadius)\n",
    "{\n",
    "    /* corners:\n",
    "     * p1 - p2\n",
    "     * |     |\n",
    "     * p4 - p3\n",
    "     */\n",
    "    Point p1 = topLeft;\n",
    "    Point p2 = Point (bottomRight.x, topLeft.y);\n",
    "    Point p3 = bottomRight;\n",
    "    Point p4 = Point (topLeft.x, bottomRight.y);\n",
    "\n",
    "    // draw straight lines\n",
    "    line(src, Point (p1.x+cornerRadius,p1.y), Point (p2.x-cornerRadius,p2.y), lineColor, thickness, lineType);\n",
    "    line(src, Point (p2.x,p2.y+cornerRadius), Point (p3.x,p3.y-cornerRadius), lineColor, thickness, lineType);\n",
    "    line(src, Point (p4.x+cornerRadius,p4.y), Point (p3.x-cornerRadius,p3.y), lineColor, thickness, lineType);\n",
    "    line(src, Point (p1.x,p1.y+cornerRadius), Point (p4.x,p4.y-cornerRadius), lineColor, thickness, lineType);\n",
    "\n",
    "    // draw arcs\n",
    "    ellipse( src, p1+Point(cornerRadius, cornerRadius), Size( cornerRadius, cornerRadius ), 180.0, 0, 90, lineColor, thickness, lineType );\n",
    "    ellipse( src, p2+Point(-cornerRadius, cornerRadius), Size( cornerRadius, cornerRadius ), 270.0, 0, 90, lineColor, thickness, lineType );\n",
    "    ellipse( src, p3+Point(-cornerRadius, -cornerRadius), Size( cornerRadius, cornerRadius ), 0.0, 0, 90, lineColor, thickness, lineType );\n",
    "    ellipse( src, p4+Point(cornerRadius, -cornerRadius), Size( cornerRadius, cornerRadius ), 90.0, 0, 90, lineColor, thickness, lineType );\n",
    "}"
   ]
  },
  {
   "cell_type": "code",
   "execution_count": null,
   "metadata": {},
   "outputs": [],
   "source": [
    "def rectangle(output_path):\n",
    "    image = Image.new(\"RGB\", (400, 400), \"green\")\n",
    "    draw = ImageDraw.Draw(image)\n",
    "    # Draw a regular rectangle\n",
    "    draw.rectangle((200, 100, 300, 200), fill=\"red\")\n",
    "    # Draw a rounded rectangle\n",
    "    draw.rounded_rectangle((50, 50, 150, 150), fill=\"blue\", outline=\"yellow\",\n",
    "                           width=3, radius=7)\n",
    "    image.save(output_path)"
   ]
  }
 ],
 "metadata": {
  "kernelspec": {
   "display_name": "Python 3",
   "language": "python",
   "name": "python3"
  },
  "language_info": {
   "name": "python",
   "version": "3.9.13 (tags/v3.9.13:6de2ca5, May 17 2022, 16:36:42) [MSC v.1929 64 bit (AMD64)]"
  },
  "orig_nbformat": 4,
  "vscode": {
   "interpreter": {
    "hash": "11938c6bc6919ae2720b4d5011047913343b08a43b18698fd82dedb0d4417594"
   }
  }
 },
 "nbformat": 4,
 "nbformat_minor": 2
}
