{
 "cells": [
  {
   "cell_type": "code",
   "execution_count": 1,
   "metadata": {},
   "outputs": [],
   "source": [
    "import cv2\n",
    "from PIL import Image"
   ]
  },
  {
   "cell_type": "code",
   "execution_count": 2,
   "metadata": {},
   "outputs": [],
   "source": [
    "def cartoonify(img_rgb):\n",
    "    '''\n",
    "    converts an image into a cartoon version of itself\n",
    "    '''\n",
    "    numBilateralFilters = 7  # number of bilateral filtering steps\n",
    "\n",
    "    # -- STEP 1 --\n",
    "    img_color = img_rgb\n",
    "    # repeatedly apply small bilateral filter instead of applying\n",
    "    # one large filter\n",
    "    # This is what is responsible for the \"cartoon effet\"\n",
    "    for _ in range(numBilateralFilters):\n",
    "        img_color = cv2.bilateralFilter(img_color, 15, 30, 20)\n",
    "\n",
    "    #return img_color\n",
    "    # The following steps do edge detection and try to add a \n",
    "    # border to the image\n",
    "    # -- STEPS 2 and 3 --\n",
    "    # convert to grayscale and apply median blur\n",
    "    img_gray = cv2.cvtColor(img_rgb, cv2.COLOR_BGR2GRAY)\n",
    "    img_blur = cv2.medianBlur(img_gray, 7)\n",
    "\n",
    "    # -- STEP 4 --\n",
    "    # detect and enhance edges\n",
    "    img_edge = cv2.adaptiveThreshold(img_blur, 255,\n",
    "                                     cv2.ADAPTIVE_THRESH_MEAN_C,\n",
    "                                     cv2.THRESH_BINARY, 3, 2)\n",
    "\n",
    "    # -- STEP 5 --\n",
    "    # convert back to color so that it can be bit-ANDed with color image\n",
    "    img_edge = cv2.cvtColor(img_edge, cv2.COLOR_GRAY2RGB)\n",
    "    return cv2.bitwise_and(img_color, img_edge)\n"
   ]
  },
  {
   "cell_type": "code",
   "execution_count": 4,
   "metadata": {},
   "outputs": [],
   "source": [
    "img=cv2.imread(r'D:\\ML-and-DP-practice\\Machine and Deep Learning\\Practice\\ImageToWaterPaint\\scene.jpg')\n",
    "cv2.imshow('real image', img)\n",
    "cv2.imshow('image', cartoonify(img))\n",
    "cv2.waitKey(0)\n",
    "cv2.destroyAllWindows()\n",
    "# img = Image.open(r'D:\\ML-and-DP-practice\\Machine and Deep Learning\\Practice\\ImageToWaterPaint\\flower.jpg')\n",
    "# img.show()"
   ]
  }
 ],
 "metadata": {
  "kernelspec": {
   "display_name": "Python 3.9.13 64-bit",
   "language": "python",
   "name": "python3"
  },
  "language_info": {
   "codemirror_mode": {
    "name": "ipython",
    "version": 3
   },
   "file_extension": ".py",
   "mimetype": "text/x-python",
   "name": "python",
   "nbconvert_exporter": "python",
   "pygments_lexer": "ipython3",
   "version": "3.9.13"
  },
  "orig_nbformat": 4,
  "vscode": {
   "interpreter": {
    "hash": "11938c6bc6919ae2720b4d5011047913343b08a43b18698fd82dedb0d4417594"
   }
  }
 },
 "nbformat": 4,
 "nbformat_minor": 2
}
