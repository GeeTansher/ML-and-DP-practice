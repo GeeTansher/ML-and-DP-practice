{
 "cells": [
  {
   "cell_type": "code",
   "execution_count": 2,
   "metadata": {},
   "outputs": [],
   "source": [
    "import cv2\n",
    "import numpy as np"
   ]
  },
  {
   "cell_type": "code",
   "execution_count": 17,
   "metadata": {},
   "outputs": [],
   "source": [
    "img = np.zeros((1000,1000))\n",
    "img1 = cv2.imread('images\\cat.jpeg')\n",
    "h , w = img1.shape[:2]\n",
    "mat = cv2.getRotationMatrix2D((w/2,h/2),20,1)\n",
    "image = cv2.warpAffine(img1,mat,(w+200,h+200))\n",
    "cv2.imshow(\"image\",image)\n",
    "# cv2.imshow(\"img\",img1)\n",
    "cv2.waitKey()\n",
    "cv2.destroyAllWindows()"
   ]
  },
  {
   "cell_type": "code",
   "execution_count": 19,
   "metadata": {},
   "outputs": [
    {
     "data": {
      "text/plain": [
       "array([[[ 0,  1,  2,  3,  4],\n",
       "        [ 5,  6,  7,  8,  9],\n",
       "        [10, 11, 12, 13, 14]],\n",
       "\n",
       "       [[15, 16, 17, 18, 19],\n",
       "        [20, 21, 22, 23, 24],\n",
       "        [25, 26, 27, 28, 29]],\n",
       "\n",
       "       [[30, 31, 32, 33, 34],\n",
       "        [35, 36, 37, 38, 39],\n",
       "        [40, 41, 42, 43, 44]]])"
      ]
     },
     "execution_count": 19,
     "metadata": {},
     "output_type": "execute_result"
    }
   ],
   "source": [
    "arr = np.arange(45).reshape(3,3,5)\n",
    "arr"
   ]
  },
  {
   "cell_type": "code",
   "execution_count": 22,
   "metadata": {},
   "outputs": [
    {
     "data": {
      "text/plain": [
       "array([[[ 6,  8]],\n",
       "\n",
       "       [[36, 38]]])"
      ]
     },
     "execution_count": 22,
     "metadata": {},
     "output_type": "execute_result"
    }
   ],
   "source": [
    "arr[0::2,1::2,1::2]"
   ]
  },
  {
   "cell_type": "code",
   "execution_count": 2,
   "metadata": {},
   "outputs": [],
   "source": [
    "import cv2\n",
    "import numpy as np\n",
    "\n",
    "def setValue(x):\n",
    "    pass\n",
    "\n",
    "cv2.namedWindow(\"Color Detector\")\n",
    "cv2.createTrackbar(\"Upper Hue\", \"Color Detector\", 150, 180, setValue)\n",
    "cv2.createTrackbar(\"Upper Saturation\", \"Color Detector\", 255, 255, setValue)\n",
    "cv2.createTrackbar(\"Upper Value\", \"Color Detector\", 255, 255, setValue)\n",
    "cv2.createTrackbar(\"Lower Hue\", \"Color Detector\", 64, 180, setValue)\n",
    "cv2.createTrackbar(\"Lower Saturation\", \"Color Detector\", 72, 255, setValue)\n",
    "cv2.createTrackbar(\"Lower Value\", \"Color Detector\", 49, 255, setValue)\n",
    "\n",
    "if __name__ == \"__main__\":\n",
    "    cap = cv2.VideoCapture(0)\n",
    "    \n",
    "    while(cap.isOpened()):\n",
    "        ret, frame = cap.read()\n",
    "        frame = cv2.resize(frame, None, fx=0.8, fy=0.8, interpolation=cv2.INTER_AREA)\n",
    "        \n",
    "        hsv = cv2.cvtColor(frame, cv2.COLOR_BGR2HSV)\n",
    "        uh = cv2.getTrackbarPos(\"Upper Hue\", \"Color Detector\")\n",
    "        us = cv2.getTrackbarPos(\"Upper Saturation\", \"Color Detector\")\n",
    "        uv = cv2.getTrackbarPos(\"Upper Value\", \"Color Detector\")\n",
    "        lh = cv2.getTrackbarPos(\"Lower Hue\", \"Color Detector\")\n",
    "        ls = cv2.getTrackbarPos(\"Lower Saturation\", \"Color Detector\")\n",
    "        lv = cv2.getTrackbarPos(\"Lower Value\", \"Color Detector\")\n",
    "        \n",
    "        upperHSV = np.array([uh,us,uv])\n",
    "        lowerHSV = np.array([lh,ls,lv])\n",
    "        \n",
    "        mask = cv2.inRange(hsv, lowerHSV, upperHSV)\n",
    "        \n",
    "        result = cv2.bitwise_and(frame, frame, mask=mask)\n",
    "        result = cv2.medianBlur(result, 3)\n",
    "        \n",
    "        cv2.imshow(\"Image\", result)\n",
    "        k=cv2.waitKey(1)\n",
    "        if k==27:\n",
    "            break\n",
    "        \n",
    "    cv2.destroyAllWindows()\n",
    "        "
   ]
  },
  {
   "cell_type": "code",
   "execution_count": 5,
   "metadata": {},
   "outputs": [
    {
     "ename": "",
     "evalue": "",
     "output_type": "error",
     "traceback": [
      "\u001b[1;31mThe Kernel crashed while executing code in the the current cell or a previous cell. Please review the code in the cell(s) to identify a possible cause of the failure. Click <a href='https://aka.ms/vscodeJupyterKernelCrash'>here</a> for more info. View Jupyter <a href='command:jupyter.viewOutput'>log</a> for further details."
     ]
    }
   ],
   "source": [
    "cv2.imshow(\"dca\",mask)\n",
    "cv2.waitKey()\n",
    "cv2.destroyAllWindows()"
   ]
  }
 ],
 "metadata": {
  "kernelspec": {
   "display_name": "Python 3.9.7 64-bit (system)",
   "language": "python",
   "name": "python3"
  },
  "language_info": {
   "codemirror_mode": {
    "name": "ipython",
    "version": 3
   },
   "file_extension": ".py",
   "mimetype": "text/x-python",
   "name": "python",
   "nbconvert_exporter": "python",
   "pygments_lexer": "ipython3",
   "version": "3.9.7"
  },
  "orig_nbformat": 4,
  "vscode": {
   "interpreter": {
    "hash": "f6246b25e200e4c5124e3e61789ac81350562f0761bbcf92ad9e48654207659c"
   }
  }
 },
 "nbformat": 4,
 "nbformat_minor": 2
}
