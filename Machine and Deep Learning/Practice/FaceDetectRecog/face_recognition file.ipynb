{
 "cells": [
  {
   "cell_type": "code",
   "execution_count": 2,
   "id": "0d3802a8",
   "metadata": {},
   "outputs": [],
   "source": [
    "import face_recognition\n",
    "import cv2"
   ]
  },
  {
   "cell_type": "code",
   "execution_count": 3,
   "id": "74d9906c",
   "metadata": {},
   "outputs": [],
   "source": [
    "import os\n",
    "import glob\n",
    "import numpy as np"
   ]
  },
  {
   "cell_type": "code",
   "execution_count": 3,
   "id": "1f08dec7",
   "metadata": {},
   "outputs": [],
   "source": [
    "img = cv2.imread(\"images/1.jpg\")\n",
    "rgb = cv2.cvtColor(img,cv2.COLOR_BGR2RGB)\n",
    "img_en = face_recognition.face_encodings(rgb)[0]"
   ]
  },
  {
   "cell_type": "code",
   "execution_count": 5,
   "id": "c5f36bba",
   "metadata": {},
   "outputs": [],
   "source": [
    "img2 = cv2.imread(\"2.jpg\")\n",
    "rgb2 = cv2.cvtColor(img2,cv2.COLOR_BGR2RGB)\n",
    "img_en2 = face_recognition.face_encodings(rgb2)[0]"
   ]
  },
  {
   "cell_type": "code",
   "execution_count": 6,
   "id": "494e1bd8",
   "metadata": {},
   "outputs": [
    {
     "name": "stdout",
     "output_type": "stream",
     "text": [
      "[True]\n"
     ]
    }
   ],
   "source": [
    "print(face_recognition.compare_faces([img_en],img_en2))"
   ]
  },
  {
   "cell_type": "code",
   "execution_count": 4,
   "id": "e70ba5c2",
   "metadata": {},
   "outputs": [],
   "source": [
    "known_face_encodings=[]\n",
    "known_face_name =[]"
   ]
  },
  {
   "cell_type": "code",
   "execution_count": 5,
   "id": "ed849606",
   "metadata": {},
   "outputs": [],
   "source": [
    "def load_encoding_images(imagesPath):\n",
    "    imagesPath = glob.glob(os.path.join(imagesPath,\"*.*\"))\n",
    "    print(\"{} Encodings found\".format(len(imagesPath)))\n",
    "    for image in imagesPath:\n",
    "        img = cv2.imread(image)\n",
    "        rgb_img=cv2.cvtColor(img,cv2.COLOR_BGR2RGB)\n",
    "        \n",
    "        (filename,ext)=os.path.splitext(os.path.basename(image))\n",
    "        \n",
    "        img_enco = face_recognition.face_encodings(rgb_img)[0]\n",
    "        \n",
    "        known_face_encodings.append(img_enco)\n",
    "        known_face_name.append(filename)\n",
    "    print(\"Encoding images loaded\")"
   ]
  },
  {
   "cell_type": "code",
   "execution_count": 6,
   "id": "17b83d2d",
   "metadata": {},
   "outputs": [],
   "source": [
    "def detect_known_faces(frame):\n",
    "    sframe = cv2.resize(frame,(0,0),fx=0.25,fy=0.25)\n",
    "    srgb =cv2.cvtColor(sframe,cv2.COLOR_BGR2RGB)\n",
    "    face_loc = face_recognition.face_locations(srgb)\n",
    "    face_en = face_recognition.face_encodings(srgb,face_loc)\n",
    "    \n",
    "    face_names =[]\n",
    "    for face_enco in face_en:\n",
    "        matches = face_recognition.compare_faces(known_face_encodings,face_enco)\n",
    "        name = \"Unknown\"\n",
    "        \n",
    "        face_dist = face_recognition.face_distance(known_face_encodings,face_enco)\n",
    "        best_index = np.argmin(face_dist)\n",
    "        if matches[best_index]:\n",
    "            name = known_face_name[best_index]\n",
    "        face_names.append(name)\n",
    "    face_loc = np.array(face_loc)\n",
    "    face_loc = face_loc/0.25\n",
    "    return face_loc.astype(int),face_names"
   ]
  },
  {
   "cell_type": "code",
   "execution_count": 7,
   "id": "3f8aebe8",
   "metadata": {
    "scrolled": true
   },
   "outputs": [
    {
     "name": "stdout",
     "output_type": "stream",
     "text": [
      "1 Encodings found\n",
      "Encoding images loaded\n"
     ]
    }
   ],
   "source": [
    "load_encoding_images(\"images/\")\n"
   ]
  },
  {
   "cell_type": "code",
   "execution_count": 8,
   "id": "56b03b84",
   "metadata": {},
   "outputs": [],
   "source": [
    "cap = cv2.VideoCapture(0)\n",
    "while cap.isOpened():\n",
    "    ret,frame = cap.read()\n",
    "    face_loc,face_names = detect_known_faces(frame)\n",
    "    for loc,name in zip(face_loc,face_names):\n",
    "        y1,x2,y2,x1 = loc[0],loc[1],loc[2],loc[3]\n",
    "        \n",
    "        cv2.putText(frame,name,(x1,y1-10),cv2.FONT_HERSHEY_DUPLEX,1,(0,255,0),2)\n",
    "        cv2.rectangle(frame,(x1,y1),(x2,y2),(0,255,0),4)\n",
    "        \n",
    "    cv2.imshow(\"Frame\",frame)\n",
    "    \n",
    "    if cv2.waitKey(1) & 0XFF == ord('q'):\n",
    "        break\n",
    "        \n",
    "cap.release()\n",
    "cv2.destroyAllWindows()"
   ]
  },
  {
   "cell_type": "code",
   "execution_count": 6,
   "id": "f0c3e4d8",
   "metadata": {},
   "outputs": [],
   "source": [
    "import face_recognition\n",
    "import cv2\n",
    "import os\n",
    "import glob\n",
    "import numpy as np\n",
    "\n",
    "class SimpleFacerec:\n",
    "    def __init__(self):\n",
    "        self.known_face_encodings = []\n",
    "        self.known_face_names = []\n",
    "\n",
    "        # Resize frame for a faster speed\n",
    "        self.frame_resizing = 0.25\n",
    "\n",
    "    def load_encoding_images(self, images_path):\n",
    "        \"\"\"\n",
    "        Load encoding images from path\n",
    "        :param images_path:\n",
    "        :return:\n",
    "        \"\"\"\n",
    "        # Load Images\n",
    "        images_path = glob.glob(os.path.join(images_path, \"*.*\"))\n",
    "\n",
    "        print(\"{} encoding images found.\".format(len(images_path)))\n",
    "\n",
    "        # Store image encoding and names\n",
    "        for img_path in images_path:\n",
    "            img = cv2.imread(img_path)\n",
    "            rgb_img = cv2.cvtColor(img, cv2.COLOR_BGR2RGB)\n",
    "\n",
    "            # Get the filename only from the initial file path.\n",
    "            basename = os.path.basename(img_path)\n",
    "            (filename, ext) = os.path.splitext(basename)\n",
    "            # Get encoding\n",
    "            img_encoding = face_recognition.face_encodings(rgb_img)[0]\n",
    "\n",
    "            # Store file name and file encoding\n",
    "            self.known_face_encodings.append(img_encoding)\n",
    "            self.known_face_names.append(filename)\n",
    "        print(\"Encoding images loaded\")\n",
    "\n",
    "    def detect_known_faces(self, frame):\n",
    "        small_frame = cv2.resize(frame, (0, 0), fx=self.frame_resizing, fy=self.frame_resizing)\n",
    "        # Find all the faces and face encodings in the current frame of video\n",
    "        # Convert the image from BGR color (which OpenCV uses) to RGB color (which face_recognition uses)\n",
    "        rgb_small_frame = cv2.cvtColor(small_frame, cv2.COLOR_BGR2RGB)\n",
    "        face_locations = face_recognition.face_locations(rgb_small_frame)\n",
    "        face_encodings = face_recognition.face_encodings(rgb_small_frame, face_locations)\n",
    "\n",
    "        face_names = []\n",
    "        for face_encoding in face_encodings:\n",
    "            # See if the face is a match for the known face(s)\n",
    "            matches = face_recognition.compare_faces(self.known_face_encodings, face_encoding)\n",
    "            name = \"Unknown\"\n",
    "\n",
    "            # # If a match was found in known_face_encodings, just use the first one.\n",
    "            # if True in matches:\n",
    "            #     first_match_index = matches.index(True)\n",
    "            #     name = known_face_names[first_match_index]\n",
    "\n",
    "            # Or instead, use the known face with the smallest distance to the new face\n",
    "            face_distances = face_recognition.face_distance(self.known_face_encodings, face_encoding)\n",
    "            best_match_index = np.argmin(face_distances)\n",
    "            if matches[best_match_index]:\n",
    "                name = self.known_face_names[best_match_index]\n",
    "            face_names.append(name)\n",
    "\n",
    "        # Convert to numpy array to adjust coordinates with frame resizing quickly\n",
    "        face_locations = np.array(face_locations)\n",
    "        face_locations = face_locations / self.frame_resizing\n",
    "        return face_locations.astype(int), face_names\n"
   ]
  },
  {
   "cell_type": "code",
   "execution_count": 7,
   "id": "549c26be",
   "metadata": {},
   "outputs": [
    {
     "name": "stdout",
     "output_type": "stream",
     "text": [
      "1 encoding images found.\n",
      "Encoding images loaded\n"
     ]
    }
   ],
   "source": [
    "import cv2\n",
    "\n",
    "# Encode faces from a folder\n",
    "sfr = SimpleFacerec()\n",
    "sfr.load_encoding_images(\"images/\")\n",
    "\n",
    "# Load Camera\n",
    "cap = cv2.VideoCapture(0)\n",
    "\n",
    "\n",
    "while True:\n",
    "    ret, frame = cap.read()\n",
    "\n",
    "    # Detect Faces\n",
    "    face_locations, face_names = sfr.detect_known_faces(frame)\n",
    "    for face_loc, name in zip(face_locations, face_names):\n",
    "        y1, x2, y2, x1 = face_loc[0], face_loc[1], face_loc[2], face_loc[3]\n",
    "\n",
    "        cv2.putText(frame, name,(x1, y1 - 10), cv2.FONT_HERSHEY_DUPLEX, 1, (0, 0, 200), 2)\n",
    "        cv2.rectangle(frame, (x1, y1), (x2, y2), (0, 0, 200), 4)\n",
    "\n",
    "    cv2.imshow(\"Frame\", frame)\n",
    "\n",
    "    key = cv2.waitKey(1)\n",
    "    if key == 27:\n",
    "        break\n",
    "\n",
    "cap.release()\n",
    "cv2.destroyAllWindows()"
   ]
  }
 ],
 "metadata": {
  "kernelspec": {
   "display_name": "Python 3.9.7 64-bit",
   "language": "python",
   "name": "python3"
  },
  "language_info": {
   "codemirror_mode": {
    "name": "ipython",
    "version": 3
   },
   "file_extension": ".py",
   "mimetype": "text/x-python",
   "name": "python",
   "nbconvert_exporter": "python",
   "pygments_lexer": "ipython3",
   "version": "3.9.7"
  },
  "vscode": {
   "interpreter": {
    "hash": "f6246b25e200e4c5124e3e61789ac81350562f0761bbcf92ad9e48654207659c"
   }
  }
 },
 "nbformat": 4,
 "nbformat_minor": 5
}
