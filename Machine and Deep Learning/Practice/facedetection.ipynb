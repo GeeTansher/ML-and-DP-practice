{
 "cells": [
  {
   "cell_type": "code",
   "execution_count": 1,
   "metadata": {},
   "outputs": [],
   "source": [
    "import cv2\n",
    "import os\n",
    "# !pip install opencv-python"
   ]
  },
  {
   "cell_type": "code",
   "execution_count": 6,
   "metadata": {},
   "outputs": [],
   "source": [
    "cap = cv2.VideoCapture(0)\n",
    "# PATH = os.path.join('Practice', 'images')\n",
    "# os.makedirs(PATH)\n",
    "cascade_classifier = cv2.CascadeClassifier('haarcascades/haarcascade_frontalface_default.xml')\n",
    "\n",
    "while cap.isOpened():\n",
    "    ret,frame=cap.read()\n",
    "    gray = cv2.cvtColor(frame,cv2.COLOR_BGR2GRAY)\n",
    "    detection = cascade_classifier.detectMultiScale(gray,1.3,5)\n",
    "#     cv2.imshow('frame',frame)\n",
    "    \n",
    "    if(len(detection)>0):\n",
    "        (x,y,w,h)=detection[0]        \n",
    "        frame = cv2.rectangle(frame,(x,y),(x+w,w+h),(0,255,0),2)\n",
    "        img_crop=frame[y:y+h,x:x+w]\n",
    "        img_crop=cv2.resize(img_crop,(255,255))\n",
    "        \n",
    "    cv2.imshow('frame',frame)\n",
    "        \n",
    "    if cv2.waitKey(1) & 0XFF == ord('a'):\n",
    "        cv2.imwrite(\"images/\"+str(1)+\".jpg\",img_crop)\n",
    "    \n",
    "    if cv2.waitKey(1) & 0XFF == ord('q'):\n",
    "        break\n",
    "cap.release()\n",
    "cv2.destroyAllWindows()"
   ]
  },
  {
   "cell_type": "code",
   "execution_count": null,
   "metadata": {},
   "outputs": [],
   "source": []
  }
 ],
 "metadata": {
  "kernelspec": {
   "display_name": "Python 3 (ipykernel)",
   "language": "python",
   "name": "python3"
  },
  "language_info": {
   "codemirror_mode": {
    "name": "ipython",
    "version": 3
   },
   "file_extension": ".py",
   "mimetype": "text/x-python",
   "name": "python",
   "nbconvert_exporter": "python",
   "pygments_lexer": "ipython3",
   "version": "3.9.7"
  },
  "vscode": {
   "interpreter": {
    "hash": "f6246b25e200e4c5124e3e61789ac81350562f0761bbcf92ad9e48654207659c"
   }
  }
 },
 "nbformat": 4,
 "nbformat_minor": 2
}
