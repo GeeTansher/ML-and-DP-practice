{
 "cells": [
  {
   "cell_type": "code",
   "execution_count": 1,
   "metadata": {},
   "outputs": [],
   "source": [
    "import numpy as np\n",
    "import cv2\n",
    "from PIL import Image"
   ]
  },
  {
   "cell_type": "code",
   "execution_count": 60,
   "metadata": {},
   "outputs": [],
   "source": [
    "img1 = Image.open('mainImg.jpg')\n",
    "img2 =  Image.open('label.png')\n",
    "img3 = Image.open('img2.png')"
   ]
  },
  {
   "cell_type": "code",
   "execution_count": 29,
   "metadata": {},
   "outputs": [],
   "source": [
    "img1.show()"
   ]
  },
  {
   "cell_type": "code",
   "execution_count": 51,
   "metadata": {},
   "outputs": [],
   "source": [
    "h = img2.height\n",
    "w = img2.width"
   ]
  },
  {
   "cell_type": "code",
   "execution_count": 61,
   "metadata": {},
   "outputs": [],
   "source": [
    "img1 = img1.resize((w,h))"
   ]
  },
  {
   "cell_type": "code",
   "execution_count": 62,
   "metadata": {},
   "outputs": [],
   "source": [
    "img1 = img1.convert(\"RGBA\")\n",
    "img2 = img2.convert(\"RGBA\")\n",
    "img3 = img3.convert(\"RGBA\")"
   ]
  },
  {
   "cell_type": "code",
   "execution_count": 53,
   "metadata": {},
   "outputs": [
    {
     "name": "stdout",
     "output_type": "stream",
     "text": [
      "842\n",
      "842\n",
      "596\n"
     ]
    }
   ],
   "source": [
    "print(img1.height)\n",
    "print(img2.height)\n",
    "print(img2.width)"
   ]
  },
  {
   "cell_type": "code",
   "execution_count": 63,
   "metadata": {},
   "outputs": [],
   "source": [
    "img3 = img3.resize((w-50,150))"
   ]
  },
  {
   "cell_type": "code",
   "execution_count": 65,
   "metadata": {},
   "outputs": [],
   "source": [
    "img = img1.copy()\n",
    "img.paste(img3, (25,680), img3)\n",
    "# img.paste(img2, (0,0), img2)\n",
    "img.save('hello.png',\"PNG\")"
   ]
  },
  {
   "cell_type": "code",
   "execution_count": 48,
   "metadata": {},
   "outputs": [],
   "source": [
    "# for background removal\n",
    "img = Image.open('tag.png')\n",
    "rgba = img.convert(\"RGBA\")\n",
    "datas = rgba.getdata()\n",
    "\n",
    "newData = []\n",
    "for item in datas:\n",
    "    if item[0] == 0 and item[1] == 0 and item[2] == 0:\n",
    "        newData.append((255,255,255,0))\n",
    "    else:\n",
    "        newData.append(item)\n",
    "\n",
    "rgba.putdata(newData)\n",
    "rgba.save(\"transparent.png\",\"PNG\")\n"
   ]
  },
  {
   "cell_type": "code",
   "execution_count": 5,
   "metadata": {},
   "outputs": [
    {
     "data": {
      "text/plain": [
       "True"
      ]
     },
     "execution_count": 5,
     "metadata": {},
     "output_type": "execute_result"
    }
   ],
   "source": [
    "image = np.zeros((250,250))\n",
    "cv2.imwrite(\"img1.jpg\",image)\n",
    "# cv2.imshow(\"image\",image)\n",
    "# cv2.waitKey()\n",
    "# cv2.destroyAllWindows()"
   ]
  },
  {
   "cell_type": "code",
   "execution_count": 7,
   "metadata": {},
   "outputs": [],
   "source": [
    "opacity_level = 170 # Opaque is 255, input between 0-255\n",
    "\n",
    "img = Image.open('img1.jpg')\n",
    "img = img.convert(\"RGBA\")\n",
    "datas = img.getdata()\n",
    "\n",
    "newData = []\n",
    "for item in datas:\n",
    "    if item[0] == 0 and item[1] == 0 and item[2] == 0:\n",
    "        newData.append((0, 0, 0, opacity_level))\n",
    "    else:\n",
    "        newData.append(item)\n",
    "\n",
    "img.putdata(newData)\n",
    "img.save(\"img2.png\", \"PNG\")"
   ]
  }
 ],
 "metadata": {
  "kernelspec": {
   "display_name": "Python 3.9.13 64-bit",
   "language": "python",
   "name": "python3"
  },
  "language_info": {
   "codemirror_mode": {
    "name": "ipython",
    "version": 3
   },
   "file_extension": ".py",
   "mimetype": "text/x-python",
   "name": "python",
   "nbconvert_exporter": "python",
   "pygments_lexer": "ipython3",
   "version": "3.9.13"
  },
  "orig_nbformat": 4,
  "vscode": {
   "interpreter": {
    "hash": "11938c6bc6919ae2720b4d5011047913343b08a43b18698fd82dedb0d4417594"
   }
  }
 },
 "nbformat": 4,
 "nbformat_minor": 2
}
