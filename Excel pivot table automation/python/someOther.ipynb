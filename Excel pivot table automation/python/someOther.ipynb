{
 "cells": [
  {
   "attachments": {
    "image.png": {
     "image/png": "[encoded data removed]"
    }
   },
   "cell_type": "markdown",
   "metadata": {},
   "source": [
    "![image.png](attachment:image.png)"
   ]
  },
  {
   "cell_type": "code",
   "execution_count": null,
   "metadata": {},
   "outputs": [],
   "source": [
    "from selenium import webdriver\n",
    "import time\n",
    "\n",
    "\n",
    "dataset = {'     *       *      *      *      *      ******* ': 'J',\n",
    "           '*******      *      *      *      *      *      *': 'L',\n",
    "           '********  *  **  *  **  *  **  *  **  *  * ** ** ': 'B',\n",
    "           '*       *       *       ****  *     *     *      ': 'Y',\n",
    "           '*      *      *      ********      *      *      ': 'T',\n",
    "           ' ***** *     **     **     **     **     * *   * ': 'C',\n",
    "           '********  *  **  *  **  *  **     **     **     *': 'E',\n",
    "           '********     **     **     **     **     * ***** ': 'D',\n",
    "           '*     **     **     *********     **     **     *': 'I',\n",
    "           ' ***** *     **     **     **     **     * ***** ': 'O',\n",
    "           '******* *       *       *     *     *     *******': 'M',\n",
    "           '******* *       *       *       *       * *******': 'N',\n",
    "           '********  *   *  *   *  *   *      *      *      ': 'F',\n",
    "           ' **  * *  *  **  *  **  *  **  *  **  *  * *  ** ': 'S',\n",
    "           ' ***** *     **     **     **   * **    *  **** *': 'Q',\n",
    "           '*******   *     * *    * *   *   *  *   * *     *': 'K',\n",
    "           '     **   **   ** *  *   *   ** *     **       **': 'A',\n",
    "           '******       *      *      *      *      ******* ': 'U',\n",
    "           '*******   *      *      *      *      *   *******': 'H',\n",
    "           '**       **       **       *    **   **   **     ': 'V',\n",
    "           '*     **    ***   * **  *  ** *   ***    **     *': 'Z',\n",
    "           '********  *   *  *   *  *   *  *   *  *    **    ': 'P',\n",
    "           '*     * *   *   * *     *     * *   *   * *     *': 'X',\n",
    "           ' ***** *     **     **     **   * **   * * *  ** ': 'G',\n",
    "           '********  *   *  *   *  *   *  **  *  * *  **   *': 'R',\n",
    "           '*******     *     *     *       *       * *******': 'W'}\n",
    "\n",
    "\n",
    "def group_captcha_string(word_pos):\n",
    "    captcha_string = ''\n",
    "    for i in range(len(word_pos[0])):\n",
    "        temp_list = []\n",
    "        temp_string = ''\n",
    "\n",
    "        for j in range(len(word_pos)):\n",
    "            val = word_pos[j][i]\n",
    "            temp_string += val\n",
    "\n",
    "            if val.strip():\n",
    "                temp_list.append(val)\n",
    "\n",
    "        if temp_list:\n",
    "            captcha_string += temp_string\n",
    "        else:\n",
    "            captcha_string += 'sp'\n",
    "\n",
    "    return captcha_string.split(\"spsp\")\n",
    "\n",
    "\n",
    "# create client\n",
    "client = webdriver.Chrome()\n",
    "client.get(\"http://keith-wood.name/realPerson.html\")\n",
    "time.sleep(3)\n",
    "\n",
    "# indexing text\n",
    "_get = lambda _in: {index: val for index, val in enumerate(_in)}\n",
    "\n",
    "# get text from html tag\n",
    "captcha = client.find_element_by_css_selector('form [class=\"realperson-text\"]').text.split('\\n')\n",
    "\n",
    "word_pos = list(map(_get, captcha))\n",
    "\n",
    "# group text\n",
    "text = group_captcha_string(word_pos)\n",
    "\n",
    "# get text(test)\n",
    "captcha_text = ''.join(list(map(lambda x: dataset[x] if x else '', text)))\n",
    "print(\"captcha:\", captcha_text)"
   ]
  },
  {
   "attachments": {
    "image.png": {
     "image/png": "[encoded data removed]"
    }
   },
   "cell_type": "markdown",
   "metadata": {},
   "source": [
    "![image.png](attachment:image.png)"
   ]
  },
  {
   "cell_type": "code",
   "execution_count": null,
   "metadata": {},
   "outputs": [],
   "source": [
    "import pytesseract\n",
    "import sys\n",
    "import argparse\n",
    "try:\n",
    "    import Image\n",
    "except ImportError:\n",
    "    from PIL import Image\n",
    "from subprocess import check_output\n",
    "\n",
    "\n",
    "def resolve(path):\n",
    "    print(\"Resampling the Image\")\n",
    "    check_output(['convert', path, '-resample', '600', path])\n",
    "    return pytesseract.image_to_string(Image.open(path))\n",
    "\n",
    "\n",
    "if __name__==\"__main__\":\n",
    "    argparser = argparse.ArgumentParser()\n",
    "    argparser.add_argument('path', help = 'Captcha file path')\n",
    "    args = argparser.parse_args()\n",
    "    path = args.path\n",
    "    print('Resolving Captcha')\n",
    "    captcha_text = resolve(path)\n",
    "    print('Extracted Text', captcha_text)\n",
    "\n",
    "\n",
    "\n",
    "\n",
    "# command to run script\n",
    "python3 captcha_resolver.py cap.jpg"
   ]
  },
  {
   "cell_type": "code",
   "execution_count": null,
   "metadata": {},
   "outputs": [],
   "source": []
  }
 ],
 "metadata": {
  "language_info": {
   "name": "python"
  },
  "orig_nbformat": 4
 },
 "nbformat": 4,
 "nbformat_minor": 2
}
