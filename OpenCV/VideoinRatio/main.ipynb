{
 "cells": [
  {
   "cell_type": "code",
   "execution_count": 1,
   "metadata": {},
   "outputs": [],
   "source": [
    "import cv2\n",
    "import numpy as np\n",
    "from PIL import Image"
   ]
  },
  {
   "cell_type": "code",
   "execution_count": 61,
   "metadata": {},
   "outputs": [],
   "source": [
    "cap = cv2.VideoCapture('D:\\ML-and-DP-practice\\Machine and Deep Learning\\Practice\\VideoinRatio\\Video.mp4')"
   ]
  },
  {
   "cell_type": "code",
   "execution_count": 62,
   "metadata": {},
   "outputs": [],
   "source": [
    "h = cap.get(cv2.CAP_PROP_FRAME_HEIGHT)\n",
    "w = cap.get(cv2.CAP_PROP_FRAME_WIDTH)\n",
    "fps = cap.get(cv2.CAP_PROP_FPS)"
   ]
  },
  {
   "cell_type": "code",
   "execution_count": 63,
   "metadata": {},
   "outputs": [
    {
     "name": "stdout",
     "output_type": "stream",
     "text": [
      "Height - 1920.0 \n",
      "Width - 1080.0 \n",
      "FPS - 30.880389460886082\n",
      "138.0\n"
     ]
    }
   ],
   "source": [
    "print(\"Height - {} \\nWidth - {} \\nFPS - {}\".format(h,w,fps))\n",
    "lastFrame = cap.get(cv2.CAP_PROP_FRAME_COUNT)\n",
    "print(lastFrame)"
   ]
  },
  {
   "cell_type": "code",
   "execution_count": 5,
   "metadata": {},
   "outputs": [],
   "source": [
    "if h>w:\n",
    "    backgroundImg = np.zeros((int(h),int(h)), dtype=int)\n",
    "else:\n",
    "    backgroundImg = np.zeros((int(w),int(w)), dtype=int)"
   ]
  },
  {
   "cell_type": "code",
   "execution_count": 18,
   "metadata": {},
   "outputs": [
    {
     "data": {
      "text/plain": [
       "True"
      ]
     },
     "execution_count": 18,
     "metadata": {},
     "output_type": "execute_result"
    }
   ],
   "source": [
    "cv2.imwrite(\"Background.jpg\",backgroundImg)"
   ]
  },
  {
   "cell_type": "code",
   "execution_count": 45,
   "metadata": {},
   "outputs": [
    {
     "name": "stdout",
     "output_type": "stream",
     "text": [
      "1920   1920\n"
     ]
    }
   ],
   "source": [
    "backgroundImg = cv2.imread(r'D:\\ML-and-DP-practice\\Machine and Deep Learning\\Practice\\VideoinRatio\\Background.jpg')\n",
    "width = backgroundImg.shape[0]\n",
    "height = backgroundImg.shape[1]\n",
    "print(width,\" \",height)"
   ]
  },
  {
   "cell_type": "code",
   "execution_count": 51,
   "metadata": {},
   "outputs": [
    {
     "data": {
      "text/plain": [
       "True"
      ]
     },
     "execution_count": 51,
     "metadata": {},
     "output_type": "execute_result"
    }
   ],
   "source": [
    "if h>w:\n",
    "    backgroundImgWhite = np.ones((int(h),int(h)), dtype=int)\n",
    "    backgroundImgWhite = 255*backgroundImgWhite\n",
    "else:\n",
    "    backgroundImgWhite = np.ones((int(w),int(w)), dtype=int)\n",
    "    backgroundImgWhite = 255*backgroundImgWhite\n",
    "    \n",
    "cv2.imwrite(\"Background_white.jpg\",backgroundImgWhite)"
   ]
  },
  {
   "cell_type": "code",
   "execution_count": 64,
   "metadata": {},
   "outputs": [
    {
     "name": "stdout",
     "output_type": "stream",
     "text": [
      "1920   1920\n"
     ]
    }
   ],
   "source": [
    "backgroundImgWhite = cv2.imread(r'Background_white.jpg')\n",
    "width = backgroundImg.shape[0]\n",
    "height = backgroundImg.shape[1]\n",
    "print(width,\" \",height)"
   ]
  },
  {
   "cell_type": "code",
   "execution_count": 65,
   "metadata": {},
   "outputs": [
    {
     "name": "stdout",
     "output_type": "stream",
     "text": [
      "1080.0   1920.0\n"
     ]
    }
   ],
   "source": [
    "print(w, \" \", h)"
   ]
  },
  {
   "cell_type": "code",
   "execution_count": 66,
   "metadata": {},
   "outputs": [],
   "source": [
    "out = cv2.VideoWriter('Result.avi',cv2.VideoWriter_fourcc(*'DIVX'),fps,(int(width) , int(height)))"
   ]
  },
  {
   "cell_type": "code",
   "execution_count": 58,
   "metadata": {},
   "outputs": [
    {
     "name": "stdout",
     "output_type": "stream",
     "text": [
      "1920   1080.0   420.0\n"
     ]
    }
   ],
   "source": [
    "area = (width-w)/2;\n",
    "print(width, \" \", w, \" \", area)"
   ]
  },
  {
   "cell_type": "code",
   "execution_count": 67,
   "metadata": {},
   "outputs": [
    {
     "name": "stdout",
     "output_type": "stream",
     "text": [
      "10\n",
      "20\n",
      "30\n",
      "40\n",
      "50\n",
      "60\n",
      "70\n",
      "80\n",
      "90\n",
      "100\n",
      "110\n",
      "120\n",
      "130\n",
      "All frames extracted successfully.\n"
     ]
    }
   ],
   "source": [
    "frameNum = 0\n",
    "arr=[]\n",
    "area = (width-w)/2;\n",
    "# img = cv2.imread('Background.jpg')\n",
    "img = cv2.imread('Background_white.jpg')\n",
    "Img=Image.fromarray(img)\n",
    "\n",
    "if cap.isOpened():\n",
    "    while(frameNum <= lastFrame):\n",
    "        cap.set(cv2.CAP_PROP_POS_FRAMES, frameNum)\n",
    "        ret, frame = cap.read()\n",
    "        if ret:\n",
    "            base=Img.copy()\n",
    "            fimg = Image.fromarray(frame)\n",
    "            fimg = fimg.rotate(180)\n",
    "            base.paste(fimg,(int(area),0))\n",
    "            mainImg = np.array(base)\n",
    "            # arr.append(fimg)\n",
    "            arr.append(mainImg)\n",
    "            \n",
    "        frameNum = frameNum+1\n",
    "        if(frameNum%10 == 0):\n",
    "            print(frameNum)\n",
    "print(\"All frames extracted successfully.\")\n",
    "cap.release()\n",
    "cv2.destroyAllWindows()"
   ]
  },
  {
   "cell_type": "code",
   "execution_count": 68,
   "metadata": {},
   "outputs": [],
   "source": [
    "im = Image.fromarray(arr[0])\n",
    "im.show()\n",
    "# type(arr[0])\n",
    "# len(arr)"
   ]
  },
  {
   "cell_type": "code",
   "execution_count": 39,
   "metadata": {},
   "outputs": [],
   "source": [
    "for a in arr:\n",
    "    # out.write(a)\n",
    "    img=np.array(a)\n",
    "    cv2.imshow(\"video\", img) \n",
    "    if(cv2.waitKey(0) == 27):\n",
    "        break\n",
    "cv2.destroyAllWindows()"
   ]
  },
  {
   "cell_type": "code",
   "execution_count": 69,
   "metadata": {},
   "outputs": [
    {
     "name": "stdout",
     "output_type": "stream",
     "text": [
      "Done\n"
     ]
    }
   ],
   "source": [
    "for i in range(len(arr)):\n",
    "    img=np.array(arr[i])\n",
    "    out.write(img);\n",
    "out.release()\n",
    "print(\"Done\")"
   ]
  }
 ],
 "metadata": {
  "kernelspec": {
   "display_name": "Python 3.9.13 64-bit",
   "language": "python",
   "name": "python3"
  },
  "language_info": {
   "codemirror_mode": {
    "name": "ipython",
    "version": 3
   },
   "file_extension": ".py",
   "mimetype": "text/x-python",
   "name": "python",
   "nbconvert_exporter": "python",
   "pygments_lexer": "ipython3",
   "version": "3.9.13"
  },
  "orig_nbformat": 4,
  "vscode": {
   "interpreter": {
    "hash": "11938c6bc6919ae2720b4d5011047913343b08a43b18698fd82dedb0d4417594"
   }
  }
 },
 "nbformat": 4,
 "nbformat_minor": 2
}
