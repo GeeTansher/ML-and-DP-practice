{
 "cells": [
  {
   "cell_type": "code",
   "execution_count": 1,
   "metadata": {},
   "outputs": [],
   "source": [
    "import cv2\n",
    "from cvzone.HandTrackingModule import HandDetector\n",
    "from pynput.keyboard import Key, Controller"
   ]
  },
  {
   "cell_type": "code",
   "execution_count": null,
   "metadata": {},
   "outputs": [],
   "source": [
    "cap = cv2.VideoCapture(0)\n",
    "cap.set(3, 320)\n",
    "cap.set(4, 210)"
   ]
  },
  {
   "cell_type": "code",
   "execution_count": null,
   "metadata": {},
   "outputs": [],
   "source": [
    "detector = HandDetector(detectionCon= 0.7, maxHands= 1)\n",
    "keyboard = Controller()"
   ]
  },
  {
   "cell_type": "code",
   "execution_count": null,
   "metadata": {},
   "outputs": [],
   "source": [
    "while True:\n",
    "    _, img = cap.read()\n",
    "    hands, img = detector.findHands(img)\n",
    "\n",
    "    \n",
    "    if hands:\n",
    "        finger = detector.fingersUp(hands[0])\n",
    "        if finger == [0,0,0,0,0]:\n",
    "            keyboard.press(Key.left)\n",
    "            keyboard.release(Key.right)\n",
    "\n",
    "        elif finger == [1,1,1,1,1]:\n",
    "            keyboard.press(Key.right)\n",
    "            keyboard.release(Key.left)\n",
    "         \n",
    "    else:\n",
    "        keyboard.release(Key.left)\n",
    "        keyboard.release(Key.right)\n",
    "        \n",
    "\n",
    "    cv2.imshow(\"Controlling Game\", img)\n",
    "    if cv2.waitKey(1) == ord (\"q\"):\n",
    "        break"
   ]
  }
 ],
 "metadata": {
  "kernelspec": {
   "display_name": "Python 3",
   "language": "python",
   "name": "python3"
  },
  "language_info": {
   "codemirror_mode": {
    "name": "ipython",
    "version": 3
   },
   "file_extension": ".py",
   "mimetype": "text/x-python",
   "name": "python",
   "nbconvert_exporter": "python",
   "pygments_lexer": "ipython3",
   "version": "3.9.13"
  },
  "orig_nbformat": 4,
  "vscode": {
   "interpreter": {
    "hash": "11938c6bc6919ae2720b4d5011047913343b08a43b18698fd82dedb0d4417594"
   }
  }
 },
 "nbformat": 4,
 "nbformat_minor": 2
}
