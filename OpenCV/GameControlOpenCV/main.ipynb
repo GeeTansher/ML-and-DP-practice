{
 "cells": [
  {
   "cell_type": "code",
   "execution_count": 1,
   "metadata": {},
   "outputs": [],
   "source": [
    "import cv2\n",
    "from cvzone.HandTrackingModule import HandDetector\n",
    "from pynput.keyboard import Key, Controller\n",
    "import mediapipe as mp"
   ]
  },
  {
   "cell_type": "code",
   "execution_count": 2,
   "metadata": {},
   "outputs": [
    {
     "name": "stdout",
     "output_type": "stream",
     "text": [
      "0.8.3.1\n"
     ]
    }
   ],
   "source": [
    "from pkg_resources import get_distribution\n",
    "\n",
    "print(get_distribution('mediapipe').version)"
   ]
  },
  {
   "cell_type": "code",
   "execution_count": 3,
   "metadata": {},
   "outputs": [],
   "source": [
    "class HandDetector:\n",
    "    \"\"\"\n",
    "    Finds Hands using the mediapipe library. Exports the landmarks\n",
    "    in pixel format. Adds extra functionalities like finding how\n",
    "    many fingers are up or the distance between two fingers. Also\n",
    "    provides bounding box info of the hand found.\n",
    "    \"\"\"\n",
    "\n",
    "    def __init__(self, mode=False, maxHands=2, detectionCon=0.5, minTrackCon=0.5):\n",
    "        \"\"\"\n",
    "        :param mode: In static mode, detection is done on each image: slower\n",
    "        :param maxHands: Maximum number of hands to detect\n",
    "        :param detectionCon: Minimum Detection Confidence Threshold\n",
    "        :param minTrackCon: Minimum Tracking Confidence Threshold\n",
    "        \"\"\"\n",
    "        self.mode = mode\n",
    "        self.maxHands = maxHands\n",
    "        self.detectionCon = detectionCon\n",
    "        self.minTrackCon = minTrackCon\n",
    "\n",
    "        self.mpHands = mp.solutions.hands\n",
    "        self.hands = self.mpHands.Hands(self.mode, self.maxHands,\n",
    "                                        self.detectionCon, self.minTrackCon)\n",
    "        self.mpDraw = mp.solutions.drawing_utils\n",
    "        self.tipIds = [4, 8, 12, 16, 20]\n",
    "        self.fingers = []\n",
    "        self.lmList = []\n",
    "\n",
    "    def findHands(self, img, draw=True):\n",
    "        \"\"\"\n",
    "        Finds hands in a BGR image.\n",
    "        :param img: Image to find the hands in.\n",
    "        :param draw: Flag to draw the output on the image.\n",
    "        :return: Image with or without drawings\n",
    "        \"\"\"\n",
    "        imgRGB = cv2.cvtColor(img, cv2.COLOR_BGR2RGB)\n",
    "        self.results = self.hands.process(imgRGB)\n",
    "\n",
    "        if self.results.multi_hand_landmarks:\n",
    "            for handLms in self.results.multi_hand_landmarks:\n",
    "                if draw:\n",
    "                    self.mpDraw.draw_landmarks(img, handLms,\n",
    "                                               self.mpHands.HAND_CONNECTIONS)\n",
    "        return img\n",
    "\n",
    "    def findPosition(self, img, handNo=0, draw=True):\n",
    "        \"\"\"\n",
    "        Finds landmarks of a single hand and puts them in a list\n",
    "        in pixel format. Also finds the bounding box around the hand.\n",
    "\n",
    "        :param img: main image to find hand in\n",
    "        :param handNo: hand id if more than one hand detected\n",
    "        :param draw: Flag to draw the output on the image.\n",
    "        :return: list of landmarks in pixel format; bounding box\n",
    "        \"\"\"\n",
    "\n",
    "        xList = []\n",
    "        yList = []\n",
    "        bbox = []\n",
    "        bboxInfo =[]\n",
    "        self.lmList = []\n",
    "        if self.results.multi_hand_landmarks:\n",
    "            myHand = self.results.multi_hand_landmarks[handNo]\n",
    "            for id, lm in enumerate(myHand.landmark):\n",
    "                h, w, c = img.shape\n",
    "                px, py = int(lm.x * w), int(lm.y * h)\n",
    "                xList.append(px)\n",
    "                yList.append(py)\n",
    "                self.lmList.append([px, py])\n",
    "                if draw:\n",
    "                    cv2.circle(img, (px, py), 5, (255, 0, 255), cv2.FILLED)\n",
    "            xmin, xmax = min(xList), max(xList)\n",
    "            ymin, ymax = min(yList), max(yList)\n",
    "            boxW, boxH = xmax - xmin, ymax - ymin\n",
    "            bbox = xmin, ymin, boxW, boxH\n",
    "            cx, cy = bbox[0] + (bbox[2] // 2), \\\n",
    "                     bbox[1] + (bbox[3] // 2)\n",
    "            bboxInfo = {\"id\": id, \"bbox\": bbox,\"center\": (cx, cy)}\n",
    "\n",
    "            if draw:\n",
    "                cv2.rectangle(img, (bbox[0] - 20, bbox[1] - 20),\n",
    "                              (bbox[0] + bbox[2] + 20, bbox[1] + bbox[3] + 20),\n",
    "                              (0, 255, 0), 2)\n",
    "\n",
    "        return self.lmList, bboxInfo\n",
    "\n",
    "    def fingersUp(self):\n",
    "        \"\"\"\n",
    "        Finds how many fingers are open and returns in a list.\n",
    "        Considers left and right hands separately\n",
    "        :return: List of which fingers are up\n",
    "        \"\"\"\n",
    "        if self.results.multi_hand_landmarks:\n",
    "            myHandType = self.handType()\n",
    "            fingers = []\n",
    "            # Thumb\n",
    "            if myHandType == \"Right\":\n",
    "                if self.lmList[self.tipIds[0]][0] > self.lmList[self.tipIds[0] - 1][0]:\n",
    "                    fingers.append(1)\n",
    "                else:\n",
    "                    fingers.append(0)\n",
    "            else:\n",
    "                if self.lmList[self.tipIds[0]][0] < self.lmList[self.tipIds[0] - 1][0]:\n",
    "                    fingers.append(1)\n",
    "                else:\n",
    "                    fingers.append(0)\n",
    "\n",
    "            # 4 Fingers\n",
    "            for id in range(1, 5):\n",
    "                if self.lmList[self.tipIds[id]][1] < self.lmList[self.tipIds[id] - 2][1]:\n",
    "                    fingers.append(1)\n",
    "                else:\n",
    "                    fingers.append(0)\n",
    "        return fingers\n",
    "\n",
    "    def findDistance(self, p1, p2, img, draw=True):\n",
    "        \"\"\"\n",
    "        Find the distance between two landmarks based on their\n",
    "        index numbers.\n",
    "        :param p1: Point1 - Index of Landmark 1.\n",
    "        :param p2: Point2 - Index of Landmark 2.\n",
    "        :param img: Image to draw on.\n",
    "        :param draw: Flag to draw the output on the image.\n",
    "        :return: Distance between the points\n",
    "                 Image with output drawn\n",
    "                 Line information\n",
    "        \"\"\"\n",
    "\n",
    "        if self.results.multi_hand_landmarks:\n",
    "            x1, y1 = self.lmList[p1][0], self.lmList[p1][1]\n",
    "            x2, y2 = self.lmList[p2][0], self.lmList[p2][1]\n",
    "            cx, cy = (x1 + x2) // 2, (y1 + y2) // 2\n",
    "\n",
    "            if draw:\n",
    "                cv2.circle(img, (x1, y1), 15, (255, 0, 255), cv2.FILLED)\n",
    "                cv2.circle(img, (x2, y2), 15, (255, 0, 255), cv2.FILLED)\n",
    "                cv2.line(img, (x1, y1), (x2, y2), (255, 0, 255), 3)\n",
    "                cv2.circle(img, (cx, cy), 15, (255, 0, 255), cv2.FILLED)\n",
    "\n",
    "            length = math.hypot(x2 - x1, y2 - y1)\n",
    "            return length, img, [x1, y1, x2, y2, cx, cy]\n",
    "\n",
    "    def handType(self):\n",
    "        \"\"\"\n",
    "        Checks if the hand is left or right\n",
    "        :return: \"Right\" or \"Left\"\n",
    "        \"\"\"\n",
    "        if self.results.multi_hand_landmarks:\n",
    "            if self.lmList[17][0] < self.lmList[5][0]:\n",
    "                return \"Right\"\n",
    "            else:\n",
    "                return \"Left\""
   ]
  },
  {
   "cell_type": "code",
   "execution_count": 4,
   "metadata": {},
   "outputs": [
    {
     "data": {
      "text/plain": [
       "True"
      ]
     },
     "execution_count": 4,
     "metadata": {},
     "output_type": "execute_result"
    }
   ],
   "source": [
    "cap = cv2.VideoCapture(1)\n",
    "cap.set(3, 320)\n",
    "cap.set(4, 210)"
   ]
  },
  {
   "cell_type": "code",
   "execution_count": 5,
   "metadata": {},
   "outputs": [],
   "source": [
    "detector = HandDetector(maxHands=1, detectionCon=0.7)\n",
    "keyboard = Controller()"
   ]
  },
  {
   "cell_type": "code",
   "execution_count": 6,
   "metadata": {},
   "outputs": [
    {
     "ename": "UnboundLocalError",
     "evalue": "local variable 'fingers' referenced before assignment",
     "output_type": "error",
     "traceback": [
      "\u001b[1;31m---------------------------------------------------------------------------\u001b[0m",
      "\u001b[1;31mUnboundLocalError\u001b[0m                         Traceback (most recent call last)",
      "\u001b[1;32md:\\ML-and-DP-practice\\OpenCV\\GameControlOpenCV\\main.ipynb Cell 6\u001b[0m in \u001b[0;36m7\n\u001b[0;32m      <a href='vscode-notebook-cell:/d%3A/ML-and-DP-practice/OpenCV/GameControlOpenCV/main.ipynb#W3sZmlsZQ%3D%3D?line=2'>3</a>\u001b[0m img \u001b[39m=\u001b[39m detector\u001b[39m.\u001b[39mfindHands(img)\n\u001b[0;32m      <a href='vscode-notebook-cell:/d%3A/ML-and-DP-practice/OpenCV/GameControlOpenCV/main.ipynb#W3sZmlsZQ%3D%3D?line=5'>6</a>\u001b[0m \u001b[39mif\u001b[39;00m detector\u001b[39m.\u001b[39mhands:\n\u001b[1;32m----> <a href='vscode-notebook-cell:/d%3A/ML-and-DP-practice/OpenCV/GameControlOpenCV/main.ipynb#W3sZmlsZQ%3D%3D?line=6'>7</a>\u001b[0m     f \u001b[39m=\u001b[39m detector\u001b[39m.\u001b[39;49mfingersUp()\n\u001b[0;32m      <a href='vscode-notebook-cell:/d%3A/ML-and-DP-practice/OpenCV/GameControlOpenCV/main.ipynb#W3sZmlsZQ%3D%3D?line=7'>8</a>\u001b[0m     \u001b[39mif\u001b[39;00m f \u001b[39m==\u001b[39m [\u001b[39m0\u001b[39m,\u001b[39m0\u001b[39m,\u001b[39m0\u001b[39m,\u001b[39m0\u001b[39m,\u001b[39m0\u001b[39m]:\n\u001b[0;32m      <a href='vscode-notebook-cell:/d%3A/ML-and-DP-practice/OpenCV/GameControlOpenCV/main.ipynb#W3sZmlsZQ%3D%3D?line=8'>9</a>\u001b[0m         keyboard\u001b[39m.\u001b[39mpress(Key\u001b[39m.\u001b[39mleft)\n",
      "\u001b[1;32md:\\ML-and-DP-practice\\OpenCV\\GameControlOpenCV\\main.ipynb Cell 6\u001b[0m in \u001b[0;36m1\n\u001b[0;32m    <a href='vscode-notebook-cell:/d%3A/ML-and-DP-practice/OpenCV/GameControlOpenCV/main.ipynb#W3sZmlsZQ%3D%3D?line=111'>112</a>\u001b[0m         \u001b[39melse\u001b[39;00m:\n\u001b[0;32m    <a href='vscode-notebook-cell:/d%3A/ML-and-DP-practice/OpenCV/GameControlOpenCV/main.ipynb#W3sZmlsZQ%3D%3D?line=112'>113</a>\u001b[0m             fingers\u001b[39m.\u001b[39mappend(\u001b[39m0\u001b[39m)\n\u001b[1;32m--> <a href='vscode-notebook-cell:/d%3A/ML-and-DP-practice/OpenCV/GameControlOpenCV/main.ipynb#W3sZmlsZQ%3D%3D?line=113'>114</a>\u001b[0m \u001b[39mreturn\u001b[39;00m fingers\n",
      "\u001b[1;31mUnboundLocalError\u001b[0m: local variable 'fingers' referenced before assignment"
     ]
    }
   ],
   "source": [
    "while True:\n",
    "    _, img = cap.read()\n",
    "    img = detector.findHands(img)\n",
    "\n",
    "    \n",
    "    if detector.hands:\n",
    "        f = detector.fingersUp()\n",
    "        if f == [0,0,0,0,0]:\n",
    "            keyboard.press(Key.left)\n",
    "            keyboard.release(Key.right)\n",
    "\n",
    "        elif f == [1,1,1,1,1]:\n",
    "            keyboard.press(Key.right)\n",
    "            keyboard.release(Key.left)\n",
    "         \n",
    "    else:\n",
    "        keyboard.release(Key.left)\n",
    "        keyboard.release(Key.right)\n",
    "        \n",
    "\n",
    "    cv2.imshow(\"Controlling Game\", img)\n",
    "    if cv2.waitKey(1) == ord (\"q\"):\n",
    "        break"
   ]
  }
 ],
 "metadata": {
  "kernelspec": {
   "display_name": "Python 3",
   "language": "python",
   "name": "python3"
  },
  "language_info": {
   "codemirror_mode": {
    "name": "ipython",
    "version": 3
   },
   "file_extension": ".py",
   "mimetype": "text/x-python",
   "name": "python",
   "nbconvert_exporter": "python",
   "pygments_lexer": "ipython3",
   "version": "3.9.13"
  },
  "orig_nbformat": 4,
  "vscode": {
   "interpreter": {
    "hash": "11938c6bc6919ae2720b4d5011047913343b08a43b18698fd82dedb0d4417594"
   }
  }
 },
 "nbformat": 4,
 "nbformat_minor": 2
}
