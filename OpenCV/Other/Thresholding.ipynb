{
 "cells": [
  {
   "cell_type": "code",
   "execution_count": 1,
   "metadata": {},
   "outputs": [],
   "source": [
    "import cv2"
   ]
  },
  {
   "cell_type": "code",
   "execution_count": null,
   "metadata": {},
   "outputs": [],
   "source": [
    "# Manual Global Thresholding\n",
    "img = cv2.imread(\"D:/ML-and-DP-practice/Machine and Deep Learning/Practice/images/np2.jpg\")\n",
    "grey_img = cv2.cvtColor(img,cv2.COLOR_BGR2GRAY)\n",
    "_,thresh = cv2.threshold(grey_img,thresh=140,maxval=255,type=cv2.THRESH_BINARY)\n",
    "# _,thresh = cv2.threshold(grey_img,140,255,cv2.THRESH_BINARY_INV)\n",
    "# See more in notes\n",
    "cv2.imshow(\"image\",thresh)\n",
    "cv2.waitKey(0)\n",
    "cv2.destroyAllWindows()"
   ]
  },
  {
   "cell_type": "code",
   "execution_count": 3,
   "metadata": {},
   "outputs": [],
   "source": [
    "# Manual Adaptive Thresholding\n",
    "img = cv2.imread(\"D:\\\\ML-and-DP-practice\\\\Machine and Deep Learning\\\\Practice\\\\images\\\\flower.jpg\")\n",
    "grey_img = cv2.cvtColor(img,cv2.COLOR_BGR2GRAY)\n",
    "thresh = cv2.adaptiveThreshold(grey_img,255,\\\n",
    "    cv2.ADAPTIVE_THRESH_GAUSSIAN_C,cv2.THRESH_BINARY,51,30)\n",
    "\n",
    "cv2.imshow(\"image\",thresh)\n",
    "cv2.waitKey(0)\n",
    "cv2.destroyAllWindows()"
   ]
  }
 ],
 "metadata": {
  "kernelspec": {
   "display_name": "Python 3.9.7 64-bit (system)",
   "language": "python",
   "name": "python3"
  },
  "language_info": {
   "codemirror_mode": {
    "name": "ipython",
    "version": 3
   },
   "file_extension": ".py",
   "mimetype": "text/x-python",
   "name": "python",
   "nbconvert_exporter": "python",
   "pygments_lexer": "ipython3",
   "version": "3.9.7"
  },
  "orig_nbformat": 4,
  "vscode": {
   "interpreter": {
    "hash": "f6246b25e200e4c5124e3e61789ac81350562f0761bbcf92ad9e48654207659c"
   }
  }
 },
 "nbformat": 4,
 "nbformat_minor": 2
}
