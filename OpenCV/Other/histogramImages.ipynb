{
 "cells": [
  {
   "cell_type": "code",
   "execution_count": 1,
   "metadata": {},
   "outputs": [],
   "source": [
    "import cv2\n",
    "from matplotlib import pyplot as py\n",
    "import numpy as np"
   ]
  },
  {
   "cell_type": "code",
   "execution_count": 9,
   "metadata": {},
   "outputs": [
    {
     "ename": "AttributeError",
     "evalue": "module 'cv2' has no attribute 'imread'",
     "output_type": "error",
     "traceback": [
      "\u001b[1;31m---------------------------------------------------------------------------\u001b[0m",
      "\u001b[1;31mAttributeError\u001b[0m                            Traceback (most recent call last)",
      "\u001b[1;32md:\\ML-and-DP-practice\\Machine and Deep Learning\\Practice\\Other\\histogramImages.ipynb Cell 2\u001b[0m in \u001b[0;36m<cell line: 3>\u001b[1;34m()\u001b[0m\n\u001b[0;32m      <a href='vscode-notebook-cell:/d%3A/ML-and-DP-practice/Machine%20and%20Deep%20Learning/Practice/Other/histogramImages.ipynb#W1sZmlsZQ%3D%3D?line=0'>1</a>\u001b[0m \u001b[39m# Equalization in grey image\u001b[39;00m\n\u001b[1;32m----> <a href='vscode-notebook-cell:/d%3A/ML-and-DP-practice/Machine%20and%20Deep%20Learning/Practice/Other/histogramImages.ipynb#W1sZmlsZQ%3D%3D?line=2'>3</a>\u001b[0m img \u001b[39m=\u001b[39m cv2\u001b[39m.\u001b[39;49mimread(\u001b[39m\"\u001b[39m\u001b[39mD:/ML-and-DP-practice/Machine and Deep Learning/Practice/images/sea.webp\u001b[39m\u001b[39m\"\u001b[39m)\n\u001b[0;32m      <a href='vscode-notebook-cell:/d%3A/ML-and-DP-practice/Machine%20and%20Deep%20Learning/Practice/Other/histogramImages.ipynb#W1sZmlsZQ%3D%3D?line=3'>4</a>\u001b[0m grey_img \u001b[39m=\u001b[39m cv2\u001b[39m.\u001b[39mcvtColor(img,cv2\u001b[39m.\u001b[39mCOLOR_BGR2GRAY)\n\u001b[0;32m      <a href='vscode-notebook-cell:/d%3A/ML-and-DP-practice/Machine%20and%20Deep%20Learning/Practice/Other/histogramImages.ipynb#W1sZmlsZQ%3D%3D?line=5'>6</a>\u001b[0m hist \u001b[39m=\u001b[39m cv2\u001b[39m.\u001b[39mcalcHist([grey_img],[\u001b[39m0\u001b[39m],\u001b[39mNone\u001b[39;00m,[\u001b[39m256\u001b[39m],[\u001b[39m0\u001b[39m,\u001b[39m255\u001b[39m])\n",
      "\u001b[1;31mAttributeError\u001b[0m: module 'cv2' has no attribute 'imread'"
     ]
    }
   ],
   "source": [
    "# Equalization in grey image\n",
    "\n",
    "img = cv2.imread(\"D:/ML-and-DP-practice/Machine and Deep Learning/Practice/images/sea.webp\")\n",
    "grey_img = cv2.cvtColor(img,cv2.COLOR_BGR2GRAY)\n",
    "\n",
    "hist = cv2.calcHist([grey_img],[0],None,[256],[0,255])\n",
    "py.plot(hist)\n",
    "\n",
    "img_hist = cv2.equalizeHist(grey_img)\n",
    "\n",
    "hist = cv2.calcHist([img_hist],[0],None,[256],[0,255])\n",
    "py.plot(hist)\n",
    "\n",
    "cv2.imshow(\"Image\",img)\n",
    "cv2.imshow(\"img\",img_hist)\n",
    "cv2.waitKey(0)\n",
    "cv2.destroyAllWindows()\n",
    "py.show()"
   ]
  },
  {
   "cell_type": "code",
   "execution_count": 7,
   "metadata": {},
   "outputs": [
    {
     "ename": "AttributeError",
     "evalue": "module 'cv2' has no attribute 'imread'",
     "output_type": "error",
     "traceback": [
      "\u001b[1;31m---------------------------------------------------------------------------\u001b[0m",
      "\u001b[1;31mAttributeError\u001b[0m                            Traceback (most recent call last)",
      "\u001b[1;32md:\\ML-and-DP-practice\\Machine and Deep Learning\\Practice\\Other\\histogramImages.ipynb Cell 3\u001b[0m in \u001b[0;36m<cell line: 3>\u001b[1;34m()\u001b[0m\n\u001b[0;32m      <a href='vscode-notebook-cell:/d%3A/ML-and-DP-practice/Machine%20and%20Deep%20Learning/Practice/Other/histogramImages.ipynb#W2sZmlsZQ%3D%3D?line=0'>1</a>\u001b[0m \u001b[39m# Equalization in color image\u001b[39;00m\n\u001b[1;32m----> <a href='vscode-notebook-cell:/d%3A/ML-and-DP-practice/Machine%20and%20Deep%20Learning/Practice/Other/histogramImages.ipynb#W2sZmlsZQ%3D%3D?line=2'>3</a>\u001b[0m img \u001b[39m=\u001b[39m cv2\u001b[39m.\u001b[39;49mimread(\u001b[39m\"\u001b[39m\u001b[39mD:/ML-and-DP-practice/Machine and Deep Learning/Practice/images/flowers.jpg\u001b[39m\u001b[39m\"\u001b[39m)\n\u001b[0;32m      <a href='vscode-notebook-cell:/d%3A/ML-and-DP-practice/Machine%20and%20Deep%20Learning/Practice/Other/histogramImages.ipynb#W2sZmlsZQ%3D%3D?line=3'>4</a>\u001b[0m b,g,r \u001b[39m=\u001b[39m cv2\u001b[39m.\u001b[39msplit(img)\n\u001b[0;32m      <a href='vscode-notebook-cell:/d%3A/ML-and-DP-practice/Machine%20and%20Deep%20Learning/Practice/Other/histogramImages.ipynb#W2sZmlsZQ%3D%3D?line=4'>5</a>\u001b[0m img_hsv \u001b[39m=\u001b[39m cv2\u001b[39m.\u001b[39mcvtColor(img,cv2\u001b[39m.\u001b[39mCOLOR_BGR2HSV)\n",
      "\u001b[1;31mAttributeError\u001b[0m: module 'cv2' has no attribute 'imread'"
     ]
    }
   ],
   "source": [
    "# Equalization in color image\n",
    "\n",
    "img = cv2.imread(\"D:/ML-and-DP-practice/Machine and Deep Learning/Practice/images/flowers.jpg\")\n",
    "b,g,r = cv2.split(img)\n",
    "img_hsv = cv2.cvtColor(img,cv2.COLOR_BGR2HSV)\n",
    "h,s,v = cv2.split(img_hsv)\n",
    "v= cv2.equalizeHist(v)\n",
    "merged_hsv = cv2.merge((h,s,v))\n",
    "bgr_enhanced=cv2.cvtColor(merged_hsv,cv2.COLOR_HSV2BGR)\n",
    "\n",
    "hist = cv2.calcHist([b],[0],None,[256],[0,255])\n",
    "py.plot(hist)\n",
    "\n",
    "hist = cv2.calcHist([g],[0],None,[256],[0,255])\n",
    "py.plot(hist)\n",
    "\n",
    "hist = cv2.calcHist([r],[0],None,[256],[0,255])\n",
    "py.plot(hist)\n",
    "\n",
    "py.show()\n",
    "cv2.imshow(\"Image\",img)\n",
    "cv2.imshow(\"img\",bgr_enhanced)\n",
    "cv2.waitKey(0)\n",
    "cv2.destroyAllWindows()"
   ]
  },
  {
   "cell_type": "code",
   "execution_count": 9,
   "metadata": {},
   "outputs": [],
   "source": [
    "# Equalization in grey image using CLAHE\n",
    "\n",
    "img = cv2.imread(\"D:/ML-and-DP-practice/Machine and Deep Learning/Practice/images/sea.webp\")\n",
    "grey_img = cv2.cvtColor(img,cv2.COLOR_BGR2GRAY)\n",
    "\n",
    "clahe = cv2.createCLAHE(clipLimit=5)\n",
    "final_img = clahe.apply(grey_img)\n",
    "\n",
    "img_hist = cv2.equalizeHist(grey_img)\n",
    "\n",
    "cv2.imshow(\"Image\",img)\n",
    "cv2.imshow(\"img\",img_hist)\n",
    "cv2.imshow(\"clahe\",final_img)\n",
    "cv2.waitKey(0)\n",
    "cv2.destroyAllWindows()\n",
    "py.show()"
   ]
  },
  {
   "cell_type": "code",
   "execution_count": 2,
   "metadata": {},
   "outputs": [
    {
     "ename": "AttributeError",
     "evalue": "module 'cv2' has no attribute 'imread'",
     "output_type": "error",
     "traceback": [
      "\u001b[1;31m---------------------------------------------------------------------------\u001b[0m",
      "\u001b[1;31mAttributeError\u001b[0m                            Traceback (most recent call last)",
      "\u001b[1;32md:\\ML-and-DP-practice\\Machine and Deep Learning\\Practice\\Other\\histogramImages.ipynb Cell 5\u001b[0m in \u001b[0;36m<cell line: 3>\u001b[1;34m()\u001b[0m\n\u001b[0;32m      <a href='vscode-notebook-cell:/d%3A/ML-and-DP-practice/Machine%20and%20Deep%20Learning/Practice/Other/histogramImages.ipynb#W4sZmlsZQ%3D%3D?line=0'>1</a>\u001b[0m \u001b[39m# Equalization in color image using CLAHE\u001b[39;00m\n\u001b[1;32m----> <a href='vscode-notebook-cell:/d%3A/ML-and-DP-practice/Machine%20and%20Deep%20Learning/Practice/Other/histogramImages.ipynb#W4sZmlsZQ%3D%3D?line=2'>3</a>\u001b[0m img \u001b[39m=\u001b[39m cv2\u001b[39m.\u001b[39;49mimread(\u001b[39m\"\u001b[39m\u001b[39mD:\u001b[39m\u001b[39m\\\\\u001b[39;00m\u001b[39mML-and-DP-practice\u001b[39m\u001b[39m\\\\\u001b[39;00m\u001b[39mMachine and Deep Learning\u001b[39m\u001b[39m\\\\\u001b[39;00m\u001b[39mPractice\u001b[39m\u001b[39m\\\\\u001b[39;00m\u001b[39mimages\u001b[39m\u001b[39m\\\\\u001b[39;00m\u001b[39mflower.jpg\u001b[39m\u001b[39m\"\u001b[39m)\n\u001b[0;32m      <a href='vscode-notebook-cell:/d%3A/ML-and-DP-practice/Machine%20and%20Deep%20Learning/Practice/Other/histogramImages.ipynb#W4sZmlsZQ%3D%3D?line=3'>4</a>\u001b[0m b,g,r \u001b[39m=\u001b[39m cv2\u001b[39m.\u001b[39msplit(img)\n\u001b[0;32m      <a href='vscode-notebook-cell:/d%3A/ML-and-DP-practice/Machine%20and%20Deep%20Learning/Practice/Other/histogramImages.ipynb#W4sZmlsZQ%3D%3D?line=4'>5</a>\u001b[0m img_hsv \u001b[39m=\u001b[39m cv2\u001b[39m.\u001b[39mcvtColor(img,cv2\u001b[39m.\u001b[39mCOLOR_BGR2HSV)\n",
      "\u001b[1;31mAttributeError\u001b[0m: module 'cv2' has no attribute 'imread'"
     ]
    }
   ],
   "source": [
    "# Equalization in color image using CLAHE\n",
    "\n",
    "img = cv2.imread(\"D:\\\\ML-and-DP-practice\\\\Machine and Deep Learning\\\\Practice\\\\images\\\\flower.jpg\")\n",
    "b,g,r = cv2.split(img)\n",
    "img_hsv = cv2.cvtColor(img,cv2.COLOR_BGR2HSV)\n",
    "h,s,v = cv2.split(img_hsv)\n",
    "clahe = cv2.createCLAHE(clipLimit=5)\n",
    "final_img = clahe.apply(v)\n",
    "merged_hsv = cv2.merge((h,s,v))\n",
    "bgr_enhanced=cv2.cvtColor(merged_hsv,cv2.COLOR_HSV2BGR)\n",
    "\n",
    "cv2.imshow(\"Image\",img)\n",
    "cv2.imshow(\"clahe\",bgr_enhanced)\n",
    "cv2.waitKey(0)\n",
    "cv2.destroyAllWindows()"
   ]
  }
 ],
 "metadata": {
  "kernelspec": {
   "display_name": "Python 3.9.7 ('base')",
   "language": "python",
   "name": "python3"
  },
  "language_info": {
   "codemirror_mode": {
    "name": "ipython",
    "version": 3
   },
   "file_extension": ".py",
   "mimetype": "text/x-python",
   "name": "python",
   "nbconvert_exporter": "python",
   "pygments_lexer": "ipython3",
   "version": "3.9.12"
  },
  "orig_nbformat": 4,
  "vscode": {
   "interpreter": {
    "hash": "dc07d24e2f18896857f0b2a651fe84ba40ce7b297e58d8804a308c8039f752a6"
   }
  }
 },
 "nbformat": 4,
 "nbformat_minor": 2
}
